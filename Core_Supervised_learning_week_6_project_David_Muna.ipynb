{
  "nbformat": 4,
  "nbformat_minor": 0,
  "metadata": {
    "colab": {
      "name": "Core Supervised learning week 6 project - David Muna",
      "provenance": [],
      "collapsed_sections": [
        "a9BPYqunry97",
        "zSGyg6kWsBUl",
        "ckfufNrcUHeH",
        "6XC_g-zKxe-r"
      ],
      "include_colab_link": true
    },
    "kernelspec": {
      "name": "python3",
      "display_name": "Python 3"
    }
  },
  "cells": [
    {
      "cell_type": "markdown",
      "metadata": {
        "id": "view-in-github",
        "colab_type": "text"
      },
      "source": [
        "<a href=\"https://colab.research.google.com/github/davidmuna/FIFA-Supervised-Learning-Model/blob/master/Core_Supervised_learning_week_6_project_David_Muna.ipynb\" target=\"_parent\"><img src=\"https://colab.research.google.com/assets/colab-badge.svg\" alt=\"Open In Colab\"/></a>"
      ]
    },
    {
      "cell_type": "markdown",
      "metadata": {
        "id": "xMxtPsqcTsSH",
        "colab_type": "text"
      },
      "source": [
        "# Supervised Learning with Exploratory Data Analysis -Core Week 6"
      ]
    },
    {
      "cell_type": "markdown",
      "metadata": {
        "id": "kLG2VTrnTvYL",
        "colab_type": "text"
      },
      "source": [
        "## 1. Defining the Question"
      ]
    },
    {
      "cell_type": "markdown",
      "metadata": {
        "id": "XecOwPNorl2W",
        "colab_type": "text"
      },
      "source": [
        "### a) Specifying the Question"
      ]
    },
    {
      "cell_type": "markdown",
      "metadata": {
        "id": "8l3-hBO6bODP",
        "colab_type": "text"
      },
      "source": [
        "I have been recruited as a football analyst in a company - Mchezopesa Ltd and tasked to accomplish the task below.\n",
        "\n",
        "A prediction result of a game between team 1 and team 2, based on who's home and who's away, and on whether or not the game is friendly and include rank in my training."
      ]
    },
    {
      "cell_type": "markdown",
      "metadata": {
        "id": "J4wfHZwQrs-t",
        "colab_type": "text"
      },
      "source": [
        "### b) Defining the Metric for Success"
      ]
    },
    {
      "cell_type": "markdown",
      "metadata": {
        "id": "QMAAJ_9t4QM1",
        "colab_type": "text"
      },
      "source": [
        "*   To create a model using Polynomial Regression and predict how many    goals the home team and away team scores \n",
        "*   To create a model using Logistic Regression and predict whether the home team will win, draw or lose\n",
        "*   To obtain a low RMSE(<10% of mean of predicted feature) and high Accuracy(>90%) Score of the Polynomial and Logistic Regression Models respectively\n",
        "\n",
        "\n"
      ]
    },
    {
      "cell_type": "markdown",
      "metadata": {
        "id": "a9BPYqunry97",
        "colab_type": "text"
      },
      "source": [
        "### c) Understanding the context \n",
        "A new model of ranking FIFA/Coca-Cola World Cup games and other tournaments took effect in August 2018 after approval by the FIFA Council.It was named \"SUM\" as it relies on the difference of points won or lost for a game to/from the previous point totals rather than averaging game points over a given time period as seen in previous times."
      ]
    },
    {
      "cell_type": "markdown",
      "metadata": {
        "id": "7KMRBJ7zr9HD",
        "colab_type": "text"
      },
      "source": [
        "### d) Recording the Experimental Design"
      ]
    },
    {
      "cell_type": "markdown",
      "metadata": {
        "id": "U8zdhj0h51iD",
        "colab_type": "text"
      },
      "source": [
        "*   Perform EDA\n",
        "*   Perform any necessary feature engineering\n",
        "*   Check of multicollinearity\n",
        "*   Modelling\n",
        "*   Cross-validate the model\n",
        "*   Compute RMSE and Accuracy Scores\n",
        "*   Create residual plots for your models, and assess their heteroscedasticity using Bartlett’s test\n",
        "\n"
      ]
    },
    {
      "cell_type": "markdown",
      "metadata": {
        "id": "zSGyg6kWsBUl",
        "colab_type": "text"
      },
      "source": [
        "### e) Data Relevance\n",
        "\n",
        "The data will be considered relevant once the metrics of succes have been computed and alternative classification models used to challenge our solution."
      ]
    },
    {
      "cell_type": "markdown",
      "metadata": {
        "id": "iUNbvIvnT7ep",
        "colab_type": "text"
      },
      "source": [
        "## 2. Reading the Data"
      ]
    },
    {
      "cell_type": "code",
      "metadata": {
        "id": "XJn2KjW-WMlG",
        "colab_type": "code",
        "colab": {
          "base_uri": "https://localhost:8080/",
          "height": 72
        },
        "outputId": "3c2e80e4-d642-4aa6-8361-aea9ac1b824f"
      },
      "source": [
        "# loading and previewing the Dataset\n",
        "# Dataset Glossary = https://drive.google.com/file/d/1BYUqaEEnFtAe5lvzJh9lpVpR2MAvERUc/view\n",
        "import pandas as pd\n",
        "import numpy as np\n",
        "import seaborn as sns\n",
        "import matplotlib.pyplot as plt\n",
        "from sklearn.preprocessing import LabelEncoder\n",
        "\n",
        "results = pd.read_csv('/content/results.csv')\n",
        "fifa_ranking = pd.read_csv('/content/fifa_ranking.csv')"
      ],
      "execution_count": null,
      "outputs": [
        {
          "output_type": "stream",
          "text": [
            "/usr/local/lib/python3.6/dist-packages/statsmodels/tools/_testing.py:19: FutureWarning: pandas.util.testing is deprecated. Use the functions in the public API at pandas.testing instead.\n",
            "  import pandas.util.testing as tm\n"
          ],
          "name": "stderr"
        }
      ]
    },
    {
      "cell_type": "markdown",
      "metadata": {
        "id": "OI3P3YnHUEBk",
        "colab_type": "text"
      },
      "source": [
        "## 3. Checking the Data"
      ]
    },
    {
      "cell_type": "code",
      "metadata": {
        "id": "YjSVNwgptHxY",
        "colab_type": "code",
        "colab": {
          "base_uri": "https://localhost:8080/",
          "height": 52
        },
        "outputId": "135f4283-a6f1-4506-f0e9-f2f4792b182e"
      },
      "source": [
        "#Shape of datasets\n",
        "print(results.shape)\n",
        "print(fifa_ranking.shape)"
      ],
      "execution_count": null,
      "outputs": [
        {
          "output_type": "stream",
          "text": [
            "(40839, 9)\n",
            "(57793, 16)\n"
          ],
          "name": "stdout"
        }
      ]
    },
    {
      "cell_type": "code",
      "metadata": {
        "id": "xHhTw5eKWr0n",
        "colab_type": "code",
        "colab": {
          "base_uri": "https://localhost:8080/",
          "height": 137
        },
        "outputId": "4b556399-b2bd-41a8-a146-807902ead111"
      },
      "source": [
        "# Previewing the top of our dataset\n",
        "results.head(3)\n",
        "\n",
        "#We can see the fist results started in year 1872-11-30"
      ],
      "execution_count": null,
      "outputs": [
        {
          "output_type": "execute_result",
          "data": {
            "text/html": [
              "<div>\n",
              "<style scoped>\n",
              "    .dataframe tbody tr th:only-of-type {\n",
              "        vertical-align: middle;\n",
              "    }\n",
              "\n",
              "    .dataframe tbody tr th {\n",
              "        vertical-align: top;\n",
              "    }\n",
              "\n",
              "    .dataframe thead th {\n",
              "        text-align: right;\n",
              "    }\n",
              "</style>\n",
              "<table border=\"1\" class=\"dataframe\">\n",
              "  <thead>\n",
              "    <tr style=\"text-align: right;\">\n",
              "      <th></th>\n",
              "      <th>date</th>\n",
              "      <th>home_team</th>\n",
              "      <th>away_team</th>\n",
              "      <th>home_score</th>\n",
              "      <th>away_score</th>\n",
              "      <th>tournament</th>\n",
              "      <th>city</th>\n",
              "      <th>country</th>\n",
              "      <th>neutral</th>\n",
              "    </tr>\n",
              "  </thead>\n",
              "  <tbody>\n",
              "    <tr>\n",
              "      <th>0</th>\n",
              "      <td>1872-11-30</td>\n",
              "      <td>Scotland</td>\n",
              "      <td>England</td>\n",
              "      <td>0</td>\n",
              "      <td>0</td>\n",
              "      <td>Friendly</td>\n",
              "      <td>Glasgow</td>\n",
              "      <td>Scotland</td>\n",
              "      <td>False</td>\n",
              "    </tr>\n",
              "    <tr>\n",
              "      <th>1</th>\n",
              "      <td>1873-03-08</td>\n",
              "      <td>England</td>\n",
              "      <td>Scotland</td>\n",
              "      <td>4</td>\n",
              "      <td>2</td>\n",
              "      <td>Friendly</td>\n",
              "      <td>London</td>\n",
              "      <td>England</td>\n",
              "      <td>False</td>\n",
              "    </tr>\n",
              "    <tr>\n",
              "      <th>2</th>\n",
              "      <td>1874-03-07</td>\n",
              "      <td>Scotland</td>\n",
              "      <td>England</td>\n",
              "      <td>2</td>\n",
              "      <td>1</td>\n",
              "      <td>Friendly</td>\n",
              "      <td>Glasgow</td>\n",
              "      <td>Scotland</td>\n",
              "      <td>False</td>\n",
              "    </tr>\n",
              "  </tbody>\n",
              "</table>\n",
              "</div>"
            ],
            "text/plain": [
              "         date home_team away_team  ...     city   country neutral\n",
              "0  1872-11-30  Scotland   England  ...  Glasgow  Scotland   False\n",
              "1  1873-03-08   England  Scotland  ...   London   England   False\n",
              "2  1874-03-07  Scotland   England  ...  Glasgow  Scotland   False\n",
              "\n",
              "[3 rows x 9 columns]"
            ]
          },
          "metadata": {
            "tags": []
          },
          "execution_count": 3
        }
      ]
    },
    {
      "cell_type": "code",
      "metadata": {
        "id": "_fcNniR4_NZm",
        "colab_type": "code",
        "colab": {
          "base_uri": "https://localhost:8080/",
          "height": 207
        },
        "outputId": "331e28c5-f972-4928-ed48-bf86bbf5059f"
      },
      "source": [
        "fifa_ranking.head(3)\n",
        "\n",
        "#We can see the first record of ranking was in 1993-08-08\n",
        "#Therefore we'll exclude years before 1993-08-08 in the results dataframe. See Feature engineering section"
      ],
      "execution_count": null,
      "outputs": [
        {
          "output_type": "execute_result",
          "data": {
            "text/html": [
              "<div>\n",
              "<style scoped>\n",
              "    .dataframe tbody tr th:only-of-type {\n",
              "        vertical-align: middle;\n",
              "    }\n",
              "\n",
              "    .dataframe tbody tr th {\n",
              "        vertical-align: top;\n",
              "    }\n",
              "\n",
              "    .dataframe thead th {\n",
              "        text-align: right;\n",
              "    }\n",
              "</style>\n",
              "<table border=\"1\" class=\"dataframe\">\n",
              "  <thead>\n",
              "    <tr style=\"text-align: right;\">\n",
              "      <th></th>\n",
              "      <th>rank</th>\n",
              "      <th>country_full</th>\n",
              "      <th>country_abrv</th>\n",
              "      <th>total_points</th>\n",
              "      <th>previous_points</th>\n",
              "      <th>rank_change</th>\n",
              "      <th>cur_year_avg</th>\n",
              "      <th>cur_year_avg_weighted</th>\n",
              "      <th>last_year_avg</th>\n",
              "      <th>last_year_avg_weighted</th>\n",
              "      <th>two_year_ago_avg</th>\n",
              "      <th>two_year_ago_weighted</th>\n",
              "      <th>three_year_ago_avg</th>\n",
              "      <th>three_year_ago_weighted</th>\n",
              "      <th>confederation</th>\n",
              "      <th>rank_date</th>\n",
              "    </tr>\n",
              "  </thead>\n",
              "  <tbody>\n",
              "    <tr>\n",
              "      <th>0</th>\n",
              "      <td>1</td>\n",
              "      <td>Germany</td>\n",
              "      <td>GER</td>\n",
              "      <td>0.0</td>\n",
              "      <td>57</td>\n",
              "      <td>0</td>\n",
              "      <td>0.0</td>\n",
              "      <td>0.0</td>\n",
              "      <td>0.0</td>\n",
              "      <td>0.0</td>\n",
              "      <td>0.0</td>\n",
              "      <td>0.0</td>\n",
              "      <td>0.0</td>\n",
              "      <td>0.0</td>\n",
              "      <td>UEFA</td>\n",
              "      <td>1993-08-08</td>\n",
              "    </tr>\n",
              "    <tr>\n",
              "      <th>1</th>\n",
              "      <td>2</td>\n",
              "      <td>Italy</td>\n",
              "      <td>ITA</td>\n",
              "      <td>0.0</td>\n",
              "      <td>57</td>\n",
              "      <td>0</td>\n",
              "      <td>0.0</td>\n",
              "      <td>0.0</td>\n",
              "      <td>0.0</td>\n",
              "      <td>0.0</td>\n",
              "      <td>0.0</td>\n",
              "      <td>0.0</td>\n",
              "      <td>0.0</td>\n",
              "      <td>0.0</td>\n",
              "      <td>UEFA</td>\n",
              "      <td>1993-08-08</td>\n",
              "    </tr>\n",
              "    <tr>\n",
              "      <th>2</th>\n",
              "      <td>3</td>\n",
              "      <td>Switzerland</td>\n",
              "      <td>SUI</td>\n",
              "      <td>0.0</td>\n",
              "      <td>50</td>\n",
              "      <td>9</td>\n",
              "      <td>0.0</td>\n",
              "      <td>0.0</td>\n",
              "      <td>0.0</td>\n",
              "      <td>0.0</td>\n",
              "      <td>0.0</td>\n",
              "      <td>0.0</td>\n",
              "      <td>0.0</td>\n",
              "      <td>0.0</td>\n",
              "      <td>UEFA</td>\n",
              "      <td>1993-08-08</td>\n",
              "    </tr>\n",
              "  </tbody>\n",
              "</table>\n",
              "</div>"
            ],
            "text/plain": [
              "   rank country_full  ... confederation   rank_date\n",
              "0     1      Germany  ...          UEFA  1993-08-08\n",
              "1     2        Italy  ...          UEFA  1993-08-08\n",
              "2     3  Switzerland  ...          UEFA  1993-08-08\n",
              "\n",
              "[3 rows x 16 columns]"
            ]
          },
          "metadata": {
            "tags": []
          },
          "execution_count": 4
        }
      ]
    },
    {
      "cell_type": "code",
      "metadata": {
        "id": "r0yZNS-FsY8y",
        "colab_type": "code",
        "colab": {
          "base_uri": "https://localhost:8080/",
          "height": 77
        },
        "outputId": "2ae07957-ac04-4710-bf43-dc1b3d7fe36e"
      },
      "source": [
        "#exclude years before 1993-08-08\n",
        "results = results[results[\"date\"] > '1993-01-01']\n",
        "results.head(1)"
      ],
      "execution_count": null,
      "outputs": [
        {
          "output_type": "execute_result",
          "data": {
            "text/html": [
              "<div>\n",
              "<style scoped>\n",
              "    .dataframe tbody tr th:only-of-type {\n",
              "        vertical-align: middle;\n",
              "    }\n",
              "\n",
              "    .dataframe tbody tr th {\n",
              "        vertical-align: top;\n",
              "    }\n",
              "\n",
              "    .dataframe thead th {\n",
              "        text-align: right;\n",
              "    }\n",
              "</style>\n",
              "<table border=\"1\" class=\"dataframe\">\n",
              "  <thead>\n",
              "    <tr style=\"text-align: right;\">\n",
              "      <th></th>\n",
              "      <th>date</th>\n",
              "      <th>home_team</th>\n",
              "      <th>away_team</th>\n",
              "      <th>home_score</th>\n",
              "      <th>away_score</th>\n",
              "      <th>tournament</th>\n",
              "      <th>city</th>\n",
              "      <th>country</th>\n",
              "      <th>neutral</th>\n",
              "    </tr>\n",
              "  </thead>\n",
              "  <tbody>\n",
              "    <tr>\n",
              "      <th>17362</th>\n",
              "      <td>1993-01-02</td>\n",
              "      <td>Gabon</td>\n",
              "      <td>Burkina Faso</td>\n",
              "      <td>1</td>\n",
              "      <td>1</td>\n",
              "      <td>Friendly</td>\n",
              "      <td>Libreville</td>\n",
              "      <td>Gabon</td>\n",
              "      <td>False</td>\n",
              "    </tr>\n",
              "  </tbody>\n",
              "</table>\n",
              "</div>"
            ],
            "text/plain": [
              "             date home_team     away_team  ...        city  country neutral\n",
              "17362  1993-01-02     Gabon  Burkina Faso  ...  Libreville    Gabon   False\n",
              "\n",
              "[1 rows x 9 columns]"
            ]
          },
          "metadata": {
            "tags": []
          },
          "execution_count": 5
        }
      ]
    },
    {
      "cell_type": "code",
      "metadata": {
        "id": "e9AzGcZFrIIr",
        "colab_type": "code",
        "colab": {
          "base_uri": "https://localhost:8080/",
          "height": 137
        },
        "outputId": "b8a7470a-c1e1-4ac6-e033-88830ad671f4"
      },
      "source": [
        "# Previewing the bottom of our dataset\n",
        "results.tail(3)"
      ],
      "execution_count": null,
      "outputs": [
        {
          "output_type": "execute_result",
          "data": {
            "text/html": [
              "<div>\n",
              "<style scoped>\n",
              "    .dataframe tbody tr th:only-of-type {\n",
              "        vertical-align: middle;\n",
              "    }\n",
              "\n",
              "    .dataframe tbody tr th {\n",
              "        vertical-align: top;\n",
              "    }\n",
              "\n",
              "    .dataframe thead th {\n",
              "        text-align: right;\n",
              "    }\n",
              "</style>\n",
              "<table border=\"1\" class=\"dataframe\">\n",
              "  <thead>\n",
              "    <tr style=\"text-align: right;\">\n",
              "      <th></th>\n",
              "      <th>date</th>\n",
              "      <th>home_team</th>\n",
              "      <th>away_team</th>\n",
              "      <th>home_score</th>\n",
              "      <th>away_score</th>\n",
              "      <th>tournament</th>\n",
              "      <th>city</th>\n",
              "      <th>country</th>\n",
              "      <th>neutral</th>\n",
              "    </tr>\n",
              "  </thead>\n",
              "  <tbody>\n",
              "    <tr>\n",
              "      <th>40836</th>\n",
              "      <td>2019-07-19</td>\n",
              "      <td>Senegal</td>\n",
              "      <td>Algeria</td>\n",
              "      <td>0</td>\n",
              "      <td>1</td>\n",
              "      <td>African Cup of Nations</td>\n",
              "      <td>Cairo</td>\n",
              "      <td>Egypt</td>\n",
              "      <td>True</td>\n",
              "    </tr>\n",
              "    <tr>\n",
              "      <th>40837</th>\n",
              "      <td>2019-07-19</td>\n",
              "      <td>Tajikistan</td>\n",
              "      <td>North Korea</td>\n",
              "      <td>0</td>\n",
              "      <td>1</td>\n",
              "      <td>Intercontinental Cup</td>\n",
              "      <td>Ahmedabad</td>\n",
              "      <td>India</td>\n",
              "      <td>True</td>\n",
              "    </tr>\n",
              "    <tr>\n",
              "      <th>40838</th>\n",
              "      <td>2019-07-20</td>\n",
              "      <td>Papua New Guinea</td>\n",
              "      <td>Fiji</td>\n",
              "      <td>1</td>\n",
              "      <td>1</td>\n",
              "      <td>Pacific Games</td>\n",
              "      <td>Apia</td>\n",
              "      <td>Samoa</td>\n",
              "      <td>True</td>\n",
              "    </tr>\n",
              "  </tbody>\n",
              "</table>\n",
              "</div>"
            ],
            "text/plain": [
              "             date         home_team    away_team  ...       city  country neutral\n",
              "40836  2019-07-19           Senegal      Algeria  ...      Cairo    Egypt    True\n",
              "40837  2019-07-19        Tajikistan  North Korea  ...  Ahmedabad    India    True\n",
              "40838  2019-07-20  Papua New Guinea         Fiji  ...       Apia    Samoa    True\n",
              "\n",
              "[3 rows x 9 columns]"
            ]
          },
          "metadata": {
            "tags": []
          },
          "execution_count": 6
        }
      ]
    },
    {
      "cell_type": "code",
      "metadata": {
        "id": "VHwvVU2e_-0c",
        "colab_type": "code",
        "colab": {
          "base_uri": "https://localhost:8080/",
          "height": 1000
        },
        "outputId": "a8c0838d-c8c9-48d8-9d49-bc99beb3c1cb"
      },
      "source": [
        "#previewing the last twenty to see if the year averages and average weighted have values\n",
        "fifa_ranking.tail(20)"
      ],
      "execution_count": null,
      "outputs": [
        {
          "output_type": "execute_result",
          "data": {
            "text/html": [
              "<div>\n",
              "<style scoped>\n",
              "    .dataframe tbody tr th:only-of-type {\n",
              "        vertical-align: middle;\n",
              "    }\n",
              "\n",
              "    .dataframe tbody tr th {\n",
              "        vertical-align: top;\n",
              "    }\n",
              "\n",
              "    .dataframe thead th {\n",
              "        text-align: right;\n",
              "    }\n",
              "</style>\n",
              "<table border=\"1\" class=\"dataframe\">\n",
              "  <thead>\n",
              "    <tr style=\"text-align: right;\">\n",
              "      <th></th>\n",
              "      <th>rank</th>\n",
              "      <th>country_full</th>\n",
              "      <th>country_abrv</th>\n",
              "      <th>total_points</th>\n",
              "      <th>previous_points</th>\n",
              "      <th>rank_change</th>\n",
              "      <th>cur_year_avg</th>\n",
              "      <th>cur_year_avg_weighted</th>\n",
              "      <th>last_year_avg</th>\n",
              "      <th>last_year_avg_weighted</th>\n",
              "      <th>two_year_ago_avg</th>\n",
              "      <th>two_year_ago_weighted</th>\n",
              "      <th>three_year_ago_avg</th>\n",
              "      <th>three_year_ago_weighted</th>\n",
              "      <th>confederation</th>\n",
              "      <th>rank_date</th>\n",
              "    </tr>\n",
              "  </thead>\n",
              "  <tbody>\n",
              "    <tr>\n",
              "      <th>57773</th>\n",
              "      <td>192</td>\n",
              "      <td>American Samoa</td>\n",
              "      <td>ASA</td>\n",
              "      <td>38.25</td>\n",
              "      <td>38</td>\n",
              "      <td>-1</td>\n",
              "      <td>0.00</td>\n",
              "      <td>0.00</td>\n",
              "      <td>0.00</td>\n",
              "      <td>0.00</td>\n",
              "      <td>127.50</td>\n",
              "      <td>38.25</td>\n",
              "      <td>0.00</td>\n",
              "      <td>0.00</td>\n",
              "      <td>OFC</td>\n",
              "      <td>2018-06-07</td>\n",
              "    </tr>\n",
              "    <tr>\n",
              "      <th>57774</th>\n",
              "      <td>192</td>\n",
              "      <td>Cook Islands</td>\n",
              "      <td>COK</td>\n",
              "      <td>38.25</td>\n",
              "      <td>38</td>\n",
              "      <td>-1</td>\n",
              "      <td>0.00</td>\n",
              "      <td>0.00</td>\n",
              "      <td>0.00</td>\n",
              "      <td>0.00</td>\n",
              "      <td>127.50</td>\n",
              "      <td>38.25</td>\n",
              "      <td>0.00</td>\n",
              "      <td>0.00</td>\n",
              "      <td>OFC</td>\n",
              "      <td>2018-06-07</td>\n",
              "    </tr>\n",
              "    <tr>\n",
              "      <th>57775</th>\n",
              "      <td>194</td>\n",
              "      <td>Bangladesh</td>\n",
              "      <td>BAN</td>\n",
              "      <td>34.76</td>\n",
              "      <td>33</td>\n",
              "      <td>3</td>\n",
              "      <td>0.00</td>\n",
              "      <td>0.00</td>\n",
              "      <td>21.25</td>\n",
              "      <td>10.63</td>\n",
              "      <td>35.13</td>\n",
              "      <td>10.54</td>\n",
              "      <td>68.00</td>\n",
              "      <td>13.60</td>\n",
              "      <td>AFC</td>\n",
              "      <td>2018-06-07</td>\n",
              "    </tr>\n",
              "    <tr>\n",
              "      <th>57776</th>\n",
              "      <td>195</td>\n",
              "      <td>Gibraltar</td>\n",
              "      <td>GIB</td>\n",
              "      <td>34.16</td>\n",
              "      <td>34</td>\n",
              "      <td>1</td>\n",
              "      <td>34.16</td>\n",
              "      <td>34.16</td>\n",
              "      <td>0.00</td>\n",
              "      <td>0.00</td>\n",
              "      <td>0.00</td>\n",
              "      <td>0.00</td>\n",
              "      <td>0.00</td>\n",
              "      <td>0.00</td>\n",
              "      <td>UEFA</td>\n",
              "      <td>2018-06-07</td>\n",
              "    </tr>\n",
              "    <tr>\n",
              "      <th>57777</th>\n",
              "      <td>195</td>\n",
              "      <td>Brunei Darussalam</td>\n",
              "      <td>BRU</td>\n",
              "      <td>34.00</td>\n",
              "      <td>36</td>\n",
              "      <td>0</td>\n",
              "      <td>0.00</td>\n",
              "      <td>0.00</td>\n",
              "      <td>42.50</td>\n",
              "      <td>21.25</td>\n",
              "      <td>0.00</td>\n",
              "      <td>0.00</td>\n",
              "      <td>63.75</td>\n",
              "      <td>12.75</td>\n",
              "      <td>AFC</td>\n",
              "      <td>2018-06-07</td>\n",
              "    </tr>\n",
              "    <tr>\n",
              "      <th>57778</th>\n",
              "      <td>197</td>\n",
              "      <td>Djibouti</td>\n",
              "      <td>DJI</td>\n",
              "      <td>31.88</td>\n",
              "      <td>27</td>\n",
              "      <td>1</td>\n",
              "      <td>0.00</td>\n",
              "      <td>0.00</td>\n",
              "      <td>63.75</td>\n",
              "      <td>31.88</td>\n",
              "      <td>0.00</td>\n",
              "      <td>0.00</td>\n",
              "      <td>0.00</td>\n",
              "      <td>0.00</td>\n",
              "      <td>CAF</td>\n",
              "      <td>2018-06-07</td>\n",
              "    </tr>\n",
              "    <tr>\n",
              "      <th>57779</th>\n",
              "      <td>197</td>\n",
              "      <td>Samoa</td>\n",
              "      <td>SAM</td>\n",
              "      <td>31.88</td>\n",
              "      <td>38</td>\n",
              "      <td>-6</td>\n",
              "      <td>0.00</td>\n",
              "      <td>0.00</td>\n",
              "      <td>0.00</td>\n",
              "      <td>0.00</td>\n",
              "      <td>106.25</td>\n",
              "      <td>31.88</td>\n",
              "      <td>0.00</td>\n",
              "      <td>0.00</td>\n",
              "      <td>OFC</td>\n",
              "      <td>2018-06-07</td>\n",
              "    </tr>\n",
              "    <tr>\n",
              "      <th>57780</th>\n",
              "      <td>199</td>\n",
              "      <td>US Virgin Islands</td>\n",
              "      <td>VIR</td>\n",
              "      <td>17.60</td>\n",
              "      <td>18</td>\n",
              "      <td>0</td>\n",
              "      <td>0.00</td>\n",
              "      <td>0.00</td>\n",
              "      <td>0.00</td>\n",
              "      <td>0.00</td>\n",
              "      <td>0.00</td>\n",
              "      <td>0.00</td>\n",
              "      <td>87.98</td>\n",
              "      <td>17.60</td>\n",
              "      <td>CONCACAF</td>\n",
              "      <td>2018-06-07</td>\n",
              "    </tr>\n",
              "    <tr>\n",
              "      <th>57781</th>\n",
              "      <td>200</td>\n",
              "      <td>Sri Lanka</td>\n",
              "      <td>SRI</td>\n",
              "      <td>16.76</td>\n",
              "      <td>17</td>\n",
              "      <td>0</td>\n",
              "      <td>0.00</td>\n",
              "      <td>0.00</td>\n",
              "      <td>8.50</td>\n",
              "      <td>4.25</td>\n",
              "      <td>25.50</td>\n",
              "      <td>7.65</td>\n",
              "      <td>24.29</td>\n",
              "      <td>4.86</td>\n",
              "      <td>AFC</td>\n",
              "      <td>2018-06-07</td>\n",
              "    </tr>\n",
              "    <tr>\n",
              "      <th>57782</th>\n",
              "      <td>201</td>\n",
              "      <td>Pakistan</td>\n",
              "      <td>PAK</td>\n",
              "      <td>10.17</td>\n",
              "      <td>10</td>\n",
              "      <td>2</td>\n",
              "      <td>0.00</td>\n",
              "      <td>0.00</td>\n",
              "      <td>0.00</td>\n",
              "      <td>0.00</td>\n",
              "      <td>0.00</td>\n",
              "      <td>0.00</td>\n",
              "      <td>50.83</td>\n",
              "      <td>10.17</td>\n",
              "      <td>AFC</td>\n",
              "      <td>2018-06-07</td>\n",
              "    </tr>\n",
              "    <tr>\n",
              "      <th>57783</th>\n",
              "      <td>202</td>\n",
              "      <td>Cayman Islands</td>\n",
              "      <td>CAY</td>\n",
              "      <td>8.50</td>\n",
              "      <td>9</td>\n",
              "      <td>2</td>\n",
              "      <td>0.00</td>\n",
              "      <td>0.00</td>\n",
              "      <td>0.00</td>\n",
              "      <td>0.00</td>\n",
              "      <td>0.00</td>\n",
              "      <td>0.00</td>\n",
              "      <td>42.50</td>\n",
              "      <td>8.50</td>\n",
              "      <td>CONCACAF</td>\n",
              "      <td>2018-06-07</td>\n",
              "    </tr>\n",
              "    <tr>\n",
              "      <th>57784</th>\n",
              "      <td>203</td>\n",
              "      <td>San Marino</td>\n",
              "      <td>SMR</td>\n",
              "      <td>7.92</td>\n",
              "      <td>8</td>\n",
              "      <td>2</td>\n",
              "      <td>0.00</td>\n",
              "      <td>0.00</td>\n",
              "      <td>0.00</td>\n",
              "      <td>0.00</td>\n",
              "      <td>0.00</td>\n",
              "      <td>0.00</td>\n",
              "      <td>39.60</td>\n",
              "      <td>7.92</td>\n",
              "      <td>UEFA</td>\n",
              "      <td>2018-06-07</td>\n",
              "    </tr>\n",
              "    <tr>\n",
              "      <th>57785</th>\n",
              "      <td>204</td>\n",
              "      <td>British Virgin Islands</td>\n",
              "      <td>VGB</td>\n",
              "      <td>4.25</td>\n",
              "      <td>4</td>\n",
              "      <td>2</td>\n",
              "      <td>0.00</td>\n",
              "      <td>0.00</td>\n",
              "      <td>0.00</td>\n",
              "      <td>0.00</td>\n",
              "      <td>0.00</td>\n",
              "      <td>0.00</td>\n",
              "      <td>21.25</td>\n",
              "      <td>4.25</td>\n",
              "      <td>CONCACAF</td>\n",
              "      <td>2018-06-07</td>\n",
              "    </tr>\n",
              "    <tr>\n",
              "      <th>57786</th>\n",
              "      <td>204</td>\n",
              "      <td>Montserrat</td>\n",
              "      <td>MSR</td>\n",
              "      <td>4.25</td>\n",
              "      <td>17</td>\n",
              "      <td>-4</td>\n",
              "      <td>0.00</td>\n",
              "      <td>0.00</td>\n",
              "      <td>0.00</td>\n",
              "      <td>0.00</td>\n",
              "      <td>0.00</td>\n",
              "      <td>0.00</td>\n",
              "      <td>21.25</td>\n",
              "      <td>4.25</td>\n",
              "      <td>CONCACAF</td>\n",
              "      <td>2018-06-07</td>\n",
              "    </tr>\n",
              "    <tr>\n",
              "      <th>57787</th>\n",
              "      <td>206</td>\n",
              "      <td>Turks and Caicos Islands</td>\n",
              "      <td>TCA</td>\n",
              "      <td>0.00</td>\n",
              "      <td>13</td>\n",
              "      <td>-4</td>\n",
              "      <td>0.00</td>\n",
              "      <td>0.00</td>\n",
              "      <td>0.00</td>\n",
              "      <td>0.00</td>\n",
              "      <td>0.00</td>\n",
              "      <td>0.00</td>\n",
              "      <td>0.00</td>\n",
              "      <td>0.00</td>\n",
              "      <td>CONCACAF</td>\n",
              "      <td>2018-06-07</td>\n",
              "    </tr>\n",
              "    <tr>\n",
              "      <th>57788</th>\n",
              "      <td>206</td>\n",
              "      <td>Anguilla</td>\n",
              "      <td>AIA</td>\n",
              "      <td>0.00</td>\n",
              "      <td>0</td>\n",
              "      <td>1</td>\n",
              "      <td>0.00</td>\n",
              "      <td>0.00</td>\n",
              "      <td>0.00</td>\n",
              "      <td>0.00</td>\n",
              "      <td>0.00</td>\n",
              "      <td>0.00</td>\n",
              "      <td>0.00</td>\n",
              "      <td>0.00</td>\n",
              "      <td>CONCACAF</td>\n",
              "      <td>2018-06-07</td>\n",
              "    </tr>\n",
              "    <tr>\n",
              "      <th>57789</th>\n",
              "      <td>206</td>\n",
              "      <td>Bahamas</td>\n",
              "      <td>BAH</td>\n",
              "      <td>0.00</td>\n",
              "      <td>0</td>\n",
              "      <td>1</td>\n",
              "      <td>0.00</td>\n",
              "      <td>0.00</td>\n",
              "      <td>0.00</td>\n",
              "      <td>0.00</td>\n",
              "      <td>0.00</td>\n",
              "      <td>0.00</td>\n",
              "      <td>0.00</td>\n",
              "      <td>0.00</td>\n",
              "      <td>CONCACAF</td>\n",
              "      <td>2018-06-07</td>\n",
              "    </tr>\n",
              "    <tr>\n",
              "      <th>57790</th>\n",
              "      <td>206</td>\n",
              "      <td>Eritrea</td>\n",
              "      <td>ERI</td>\n",
              "      <td>0.00</td>\n",
              "      <td>0</td>\n",
              "      <td>1</td>\n",
              "      <td>0.00</td>\n",
              "      <td>0.00</td>\n",
              "      <td>0.00</td>\n",
              "      <td>0.00</td>\n",
              "      <td>0.00</td>\n",
              "      <td>0.00</td>\n",
              "      <td>0.00</td>\n",
              "      <td>0.00</td>\n",
              "      <td>CAF</td>\n",
              "      <td>2018-06-07</td>\n",
              "    </tr>\n",
              "    <tr>\n",
              "      <th>57791</th>\n",
              "      <td>206</td>\n",
              "      <td>Somalia</td>\n",
              "      <td>SOM</td>\n",
              "      <td>0.00</td>\n",
              "      <td>0</td>\n",
              "      <td>1</td>\n",
              "      <td>0.00</td>\n",
              "      <td>0.00</td>\n",
              "      <td>0.00</td>\n",
              "      <td>0.00</td>\n",
              "      <td>0.00</td>\n",
              "      <td>0.00</td>\n",
              "      <td>0.00</td>\n",
              "      <td>0.00</td>\n",
              "      <td>CAF</td>\n",
              "      <td>2018-06-07</td>\n",
              "    </tr>\n",
              "    <tr>\n",
              "      <th>57792</th>\n",
              "      <td>206</td>\n",
              "      <td>Tonga</td>\n",
              "      <td>TGA</td>\n",
              "      <td>0.00</td>\n",
              "      <td>0</td>\n",
              "      <td>1</td>\n",
              "      <td>0.00</td>\n",
              "      <td>0.00</td>\n",
              "      <td>0.00</td>\n",
              "      <td>0.00</td>\n",
              "      <td>0.00</td>\n",
              "      <td>0.00</td>\n",
              "      <td>0.00</td>\n",
              "      <td>0.00</td>\n",
              "      <td>OFC</td>\n",
              "      <td>2018-06-07</td>\n",
              "    </tr>\n",
              "  </tbody>\n",
              "</table>\n",
              "</div>"
            ],
            "text/plain": [
              "       rank              country_full  ... confederation   rank_date\n",
              "57773   192            American Samoa  ...           OFC  2018-06-07\n",
              "57774   192              Cook Islands  ...           OFC  2018-06-07\n",
              "57775   194                Bangladesh  ...           AFC  2018-06-07\n",
              "57776   195                 Gibraltar  ...          UEFA  2018-06-07\n",
              "57777   195         Brunei Darussalam  ...           AFC  2018-06-07\n",
              "57778   197                  Djibouti  ...           CAF  2018-06-07\n",
              "57779   197                     Samoa  ...           OFC  2018-06-07\n",
              "57780   199         US Virgin Islands  ...      CONCACAF  2018-06-07\n",
              "57781   200                 Sri Lanka  ...           AFC  2018-06-07\n",
              "57782   201                  Pakistan  ...           AFC  2018-06-07\n",
              "57783   202            Cayman Islands  ...      CONCACAF  2018-06-07\n",
              "57784   203                San Marino  ...          UEFA  2018-06-07\n",
              "57785   204    British Virgin Islands  ...      CONCACAF  2018-06-07\n",
              "57786   204                Montserrat  ...      CONCACAF  2018-06-07\n",
              "57787   206  Turks and Caicos Islands  ...      CONCACAF  2018-06-07\n",
              "57788   206                  Anguilla  ...      CONCACAF  2018-06-07\n",
              "57789   206                   Bahamas  ...      CONCACAF  2018-06-07\n",
              "57790   206                   Eritrea  ...           CAF  2018-06-07\n",
              "57791   206                   Somalia  ...           CAF  2018-06-07\n",
              "57792   206                     Tonga  ...           OFC  2018-06-07\n",
              "\n",
              "[20 rows x 16 columns]"
            ]
          },
          "metadata": {
            "tags": []
          },
          "execution_count": 7
        }
      ]
    },
    {
      "cell_type": "code",
      "metadata": {
        "id": "n8-dW4sQWzbc",
        "colab_type": "code",
        "colab": {
          "base_uri": "https://localhost:8080/",
          "height": 194
        },
        "outputId": "7338c99d-8976-4445-f567-4bf1e202ec93"
      },
      "source": [
        "# Checking column datatypes\n",
        "results.dtypes"
      ],
      "execution_count": null,
      "outputs": [
        {
          "output_type": "execute_result",
          "data": {
            "text/plain": [
              "date          object\n",
              "home_team     object\n",
              "away_team     object\n",
              "home_score     int64\n",
              "away_score     int64\n",
              "tournament    object\n",
              "city          object\n",
              "country       object\n",
              "neutral         bool\n",
              "dtype: object"
            ]
          },
          "metadata": {
            "tags": []
          },
          "execution_count": 8
        }
      ]
    },
    {
      "cell_type": "code",
      "metadata": {
        "id": "pu9o2rmgAg0n",
        "colab_type": "code",
        "colab": {
          "base_uri": "https://localhost:8080/",
          "height": 318
        },
        "outputId": "bdc08cbb-7d6d-46ea-a59c-fd5b96a8c91e"
      },
      "source": [
        "# Checking column datatypes\n",
        "fifa_ranking.dtypes     "
      ],
      "execution_count": null,
      "outputs": [
        {
          "output_type": "execute_result",
          "data": {
            "text/plain": [
              "rank                         int64\n",
              "country_full                object\n",
              "country_abrv                object\n",
              "total_points               float64\n",
              "previous_points              int64\n",
              "rank_change                  int64\n",
              "cur_year_avg               float64\n",
              "cur_year_avg_weighted      float64\n",
              "last_year_avg              float64\n",
              "last_year_avg_weighted     float64\n",
              "two_year_ago_avg           float64\n",
              "two_year_ago_weighted      float64\n",
              "three_year_ago_avg         float64\n",
              "three_year_ago_weighted    float64\n",
              "confederation               object\n",
              "rank_date                   object\n",
              "dtype: object"
            ]
          },
          "metadata": {
            "tags": []
          },
          "execution_count": 9
        }
      ]
    },
    {
      "cell_type": "code",
      "metadata": {
        "id": "ixgkjaA9-xxY",
        "colab_type": "code",
        "colab": {
          "base_uri": "https://localhost:8080/",
          "height": 514
        },
        "outputId": "15ed167b-796e-46db-8c61-f51ed009c31d"
      },
      "source": [
        "#Checking missing values\n",
        "print(results.isnull().sum())\n",
        "print(\"------------------------------\")\n",
        "print(fifa_ranking.isnull().sum())"
      ],
      "execution_count": null,
      "outputs": [
        {
          "output_type": "stream",
          "text": [
            "date          0\n",
            "home_team     0\n",
            "away_team     0\n",
            "home_score    0\n",
            "away_score    0\n",
            "tournament    0\n",
            "city          0\n",
            "country       0\n",
            "neutral       0\n",
            "dtype: int64\n",
            "------------------------------\n",
            "rank                       0\n",
            "country_full               0\n",
            "country_abrv               0\n",
            "total_points               0\n",
            "previous_points            0\n",
            "rank_change                0\n",
            "cur_year_avg               0\n",
            "cur_year_avg_weighted      0\n",
            "last_year_avg              0\n",
            "last_year_avg_weighted     0\n",
            "two_year_ago_avg           0\n",
            "two_year_ago_weighted      0\n",
            "three_year_ago_avg         0\n",
            "three_year_ago_weighted    0\n",
            "confederation              0\n",
            "rank_date                  0\n",
            "dtype: int64\n"
          ],
          "name": "stdout"
        }
      ]
    },
    {
      "cell_type": "markdown",
      "metadata": {
        "id": "ckfufNrcUHeH",
        "colab_type": "text"
      },
      "source": [
        "## 4. External Data Source Validation"
      ]
    },
    {
      "cell_type": "markdown",
      "metadata": {
        "id": "6L4sl_0WXlbg",
        "colab_type": "text"
      },
      "source": [
        "Making sure your data matches something outside of the dataset is very important. It allows you to ensure that the measurements are roughly in line with what they should be and it serves as a check on what other things might be wrong in your dataset. External validation can often be as simple as checking your data against a single number, as we will do here."
      ]
    },
    {
      "cell_type": "markdown",
      "metadata": {
        "id": "6XC_g-zKxe-r",
        "colab_type": "text"
      },
      "source": [
        "### a.Validation"
      ]
    },
    {
      "cell_type": "markdown",
      "metadata": {
        "id": "FlBMxEDBUc9B",
        "colab_type": "text"
      },
      "source": [
        "## 5. Tidying the Dataset"
      ]
    },
    {
      "cell_type": "code",
      "metadata": {
        "id": "5o_bQcT5W3Wz",
        "colab_type": "code",
        "colab": {
          "base_uri": "https://localhost:8080/",
          "height": 265
        },
        "outputId": "ba635055-fe94-4b1a-dd2c-644fdb738a1b"
      },
      "source": [
        "# Checking for Outliers\n",
        "sns.boxplot(data=results);            "
      ],
      "execution_count": null,
      "outputs": [
        {
          "output_type": "display_data",
          "data": {
            "image/png": "[encoded data removed]",
            "text/plain": [
              "<Figure size 432x288 with 1 Axes>"
            ]
          },
          "metadata": {
            "tags": [],
            "needs_background": "light"
          }
        }
      ]
    },
    {
      "cell_type": "code",
      "metadata": {
        "id": "qfZ7LwIyC6qa",
        "colab_type": "code",
        "colab": {
          "base_uri": "https://localhost:8080/",
          "height": 287
        },
        "outputId": "e20194f6-8715-4718-983c-c2638ab8c198"
      },
      "source": [
        "#Outliers in home and away scores may not be outliers\n",
        "outlier_description = results[[\"home_score\", \"away_score\"]]\n",
        "outlier_description.describe()\n",
        "\n",
        "#We retain them because of Australia's 31–0 victory during the 2002 FIFA World Cup qualification."
      ],
      "execution_count": null,
      "outputs": [
        {
          "output_type": "execute_result",
          "data": {
            "text/html": [
              "<div>\n",
              "<style scoped>\n",
              "    .dataframe tbody tr th:only-of-type {\n",
              "        vertical-align: middle;\n",
              "    }\n",
              "\n",
              "    .dataframe tbody tr th {\n",
              "        vertical-align: top;\n",
              "    }\n",
              "\n",
              "    .dataframe thead th {\n",
              "        text-align: right;\n",
              "    }\n",
              "</style>\n",
              "<table border=\"1\" class=\"dataframe\">\n",
              "  <thead>\n",
              "    <tr style=\"text-align: right;\">\n",
              "      <th></th>\n",
              "      <th>home_score</th>\n",
              "      <th>away_score</th>\n",
              "    </tr>\n",
              "  </thead>\n",
              "  <tbody>\n",
              "    <tr>\n",
              "      <th>count</th>\n",
              "      <td>23477.000000</td>\n",
              "      <td>23477.000000</td>\n",
              "    </tr>\n",
              "    <tr>\n",
              "      <th>mean</th>\n",
              "      <td>1.651020</td>\n",
              "      <td>1.100013</td>\n",
              "    </tr>\n",
              "    <tr>\n",
              "      <th>std</th>\n",
              "      <td>1.704306</td>\n",
              "      <td>1.349434</td>\n",
              "    </tr>\n",
              "    <tr>\n",
              "      <th>min</th>\n",
              "      <td>0.000000</td>\n",
              "      <td>0.000000</td>\n",
              "    </tr>\n",
              "    <tr>\n",
              "      <th>25%</th>\n",
              "      <td>0.000000</td>\n",
              "      <td>0.000000</td>\n",
              "    </tr>\n",
              "    <tr>\n",
              "      <th>50%</th>\n",
              "      <td>1.000000</td>\n",
              "      <td>1.000000</td>\n",
              "    </tr>\n",
              "    <tr>\n",
              "      <th>75%</th>\n",
              "      <td>2.000000</td>\n",
              "      <td>2.000000</td>\n",
              "    </tr>\n",
              "    <tr>\n",
              "      <th>max</th>\n",
              "      <td>31.000000</td>\n",
              "      <td>21.000000</td>\n",
              "    </tr>\n",
              "  </tbody>\n",
              "</table>\n",
              "</div>"
            ],
            "text/plain": [
              "         home_score    away_score\n",
              "count  23477.000000  23477.000000\n",
              "mean       1.651020      1.100013\n",
              "std        1.704306      1.349434\n",
              "min        0.000000      0.000000\n",
              "25%        0.000000      0.000000\n",
              "50%        1.000000      1.000000\n",
              "75%        2.000000      2.000000\n",
              "max       31.000000     21.000000"
            ]
          },
          "metadata": {
            "tags": []
          },
          "execution_count": 12
        }
      ]
    },
    {
      "cell_type": "markdown",
      "metadata": {
        "id": "k7d5f7h-FlGW",
        "colab_type": "text"
      },
      "source": [
        "[Australia 31-0 Victory](https://en.wikipedia.org/wiki/List_of_players_with_the_most_goals_in_an_association_football_game#:~:text=The%20current%20world%20record%20for,2002%20FIFA%20World%20Cup%20qualification.)"
      ]
    },
    {
      "cell_type": "code",
      "metadata": {
        "id": "YqSF5a6lCRCu",
        "colab_type": "code",
        "colab": {
          "base_uri": "https://localhost:8080/",
          "height": 267
        },
        "outputId": "1f1cd012-02ac-4de5-c06b-4e249a9f1179"
      },
      "source": [
        "sns.boxplot(data=fifa_ranking); \n",
        "#The dataset contains too many outliers which implies theyre probably not outliers so they'll remain"
      ],
      "execution_count": null,
      "outputs": [
        {
          "output_type": "display_data",
          "data": {
            "image/png": "[encoded data removed]",
            "text/plain": [
              "<Figure size 432x288 with 1 Axes>"
            ]
          },
          "metadata": {
            "tags": [],
            "needs_background": "light"
          }
        }
      ]
    },
    {
      "cell_type": "code",
      "metadata": {
        "id": "PWlukLKUvFQN",
        "colab_type": "code",
        "colab": {
          "base_uri": "https://localhost:8080/",
          "height": 34
        },
        "outputId": "65cbd5a9-1b1d-484b-87c7-cbff1bec6e59"
      },
      "source": [
        "# Checking for Anomalies\n",
        "results['neutral'].unique()"
      ],
      "execution_count": null,
      "outputs": [
        {
          "output_type": "execute_result",
          "data": {
            "text/plain": [
              "array([False,  True])"
            ]
          },
          "metadata": {
            "tags": []
          },
          "execution_count": 14
        }
      ]
    },
    {
      "cell_type": "code",
      "metadata": {
        "id": "i7SZpL-tOHYb",
        "colab_type": "code",
        "colab": {
          "base_uri": "https://localhost:8080/",
          "height": 194
        },
        "outputId": "1c3f85e7-e800-40d0-d748-68a7f876b228"
      },
      "source": [
        "#Check number of unique values in results\n",
        "results.nunique()"
      ],
      "execution_count": null,
      "outputs": [
        {
          "output_type": "execute_result",
          "data": {
            "text/plain": [
              "date          5608\n",
              "home_team      298\n",
              "away_team      294\n",
              "home_score      23\n",
              "away_score      22\n",
              "tournament      76\n",
              "city          1689\n",
              "country        232\n",
              "neutral          2\n",
              "dtype: int64"
            ]
          },
          "metadata": {
            "tags": []
          },
          "execution_count": 15
        }
      ]
    },
    {
      "cell_type": "code",
      "metadata": {
        "id": "zNm5Eap3N5kZ",
        "colab_type": "code",
        "colab": {
          "base_uri": "https://localhost:8080/",
          "height": 318
        },
        "outputId": "d21f1512-715b-4813-a048-ec7b67605533"
      },
      "source": [
        "#Check number of unique values in fifa_ranking\n",
        "fifa_ranking.nunique()"
      ],
      "execution_count": null,
      "outputs": [
        {
          "output_type": "execute_result",
          "data": {
            "text/plain": [
              "rank                         209\n",
              "country_full                 216\n",
              "country_abrv                 216\n",
              "total_points               11114\n",
              "previous_points             1557\n",
              "rank_change                  121\n",
              "cur_year_avg                7419\n",
              "cur_year_avg_weighted       7419\n",
              "last_year_avg               7473\n",
              "last_year_avg_weighted      7001\n",
              "two_year_ago_avg            7575\n",
              "two_year_ago_weighted       6513\n",
              "three_year_ago_avg          7628\n",
              "three_year_ago_weighted     5849\n",
              "confederation                  6\n",
              "rank_date                    286\n",
              "dtype: int64"
            ]
          },
          "metadata": {
            "tags": []
          },
          "execution_count": 16
        }
      ]
    },
    {
      "cell_type": "code",
      "metadata": {
        "id": "ni8Z-jqxHeFu",
        "colab_type": "code",
        "colab": {
          "base_uri": "https://localhost:8080/",
          "height": 87
        },
        "outputId": "fd817003-5244-4d19-a768-8d1be0c37e8b"
      },
      "source": [
        "#checking for duplicates and dropping them\n",
        "\n",
        "results.drop_duplicates(keep='first',inplace = True)\n",
        "results['home_team'].drop_duplicates(keep='first',inplace = True)\n",
        "print(\"results\", results.shape)\n",
        "fifa_ranking.drop_duplicates(subset = None, keep = 'first', inplace = True)\n",
        "print(\"fifa_ranking\", fifa_ranking.shape)\n",
        "\n",
        "#rechecking number of unique values in home and away teams\n",
        "print(\"home_team\",results['home_team'].nunique())\n",
        "print(\"away_team\",results['away_team'].nunique())"
      ],
      "execution_count": null,
      "outputs": [
        {
          "output_type": "stream",
          "text": [
            "results (23477, 9)\n",
            "fifa_ranking (57756, 16)\n",
            "home_team 298\n",
            "away_team 294\n"
          ],
          "name": "stdout"
        }
      ]
    },
    {
      "cell_type": "code",
      "metadata": {
        "id": "PvCYb6dgW4yh",
        "colab_type": "code",
        "colab": {}
      },
      "source": [
        "# converting the 'date' and 'rank_date' columns to datetime format \n",
        "\n",
        "#first standardising the dates\n",
        "fifa_ranking.rank_date = fifa_ranking.rename({'rank_date': 'date'}, axis = 1, inplace = True)\n",
        "\n",
        "#Standardising the dates\n",
        "results.date = results.date.apply(lambda x: x.replace('/', '-'))\n",
        "fifa_ranking.date = fifa_ranking.date.apply(lambda x: x.replace('/', '-'))\n",
        "\n"
      ],
      "execution_count": null,
      "outputs": []
    },
    {
      "cell_type": "code",
      "metadata": {
        "id": "0xcYBzL583LA",
        "colab_type": "code",
        "colab": {}
      },
      "source": [
        "#Changing date dtypes to datetime\n",
        "results['date'] = pd.to_datetime(results['date'])\n",
        "fifa_ranking['date'] = pd.to_datetime(fifa_ranking['date'])\n"
      ],
      "execution_count": null,
      "outputs": []
    },
    {
      "cell_type": "code",
      "metadata": {
        "id": "Y2JTNhE-cOjV",
        "colab_type": "code",
        "colab": {
          "base_uri": "https://localhost:8080/",
          "height": 107
        },
        "outputId": "49b6cf26-672e-4230-d3fd-a30e5f42ec19"
      },
      "source": [
        "#Dropping city column in results\n",
        "results = results.drop(columns = ['city'], axis = 1)\n",
        "results.head(2)"
      ],
      "execution_count": null,
      "outputs": [
        {
          "output_type": "execute_result",
          "data": {
            "text/html": [
              "<div>\n",
              "<style scoped>\n",
              "    .dataframe tbody tr th:only-of-type {\n",
              "        vertical-align: middle;\n",
              "    }\n",
              "\n",
              "    .dataframe tbody tr th {\n",
              "        vertical-align: top;\n",
              "    }\n",
              "\n",
              "    .dataframe thead th {\n",
              "        text-align: right;\n",
              "    }\n",
              "</style>\n",
              "<table border=\"1\" class=\"dataframe\">\n",
              "  <thead>\n",
              "    <tr style=\"text-align: right;\">\n",
              "      <th></th>\n",
              "      <th>date</th>\n",
              "      <th>home_team</th>\n",
              "      <th>away_team</th>\n",
              "      <th>home_score</th>\n",
              "      <th>away_score</th>\n",
              "      <th>tournament</th>\n",
              "      <th>country</th>\n",
              "      <th>neutral</th>\n",
              "    </tr>\n",
              "  </thead>\n",
              "  <tbody>\n",
              "    <tr>\n",
              "      <th>17362</th>\n",
              "      <td>1993-01-02</td>\n",
              "      <td>Gabon</td>\n",
              "      <td>Burkina Faso</td>\n",
              "      <td>1</td>\n",
              "      <td>1</td>\n",
              "      <td>Friendly</td>\n",
              "      <td>Gabon</td>\n",
              "      <td>False</td>\n",
              "    </tr>\n",
              "    <tr>\n",
              "      <th>17363</th>\n",
              "      <td>1993-01-02</td>\n",
              "      <td>Kuwait</td>\n",
              "      <td>Lebanon</td>\n",
              "      <td>2</td>\n",
              "      <td>0</td>\n",
              "      <td>Friendly</td>\n",
              "      <td>Kuwait</td>\n",
              "      <td>False</td>\n",
              "    </tr>\n",
              "  </tbody>\n",
              "</table>\n",
              "</div>"
            ],
            "text/plain": [
              "            date home_team     away_team  ...  tournament  country neutral\n",
              "17362 1993-01-02     Gabon  Burkina Faso  ...    Friendly    Gabon   False\n",
              "17363 1993-01-02    Kuwait       Lebanon  ...    Friendly   Kuwait   False\n",
              "\n",
              "[2 rows x 8 columns]"
            ]
          },
          "metadata": {
            "tags": []
          },
          "execution_count": 20
        }
      ]
    },
    {
      "cell_type": "markdown",
      "metadata": {
        "id": "4W231vtvhscL",
        "colab_type": "text"
      },
      "source": [
        "Joining/merging results and fifa_ranking dataframe"
      ]
    },
    {
      "cell_type": "code",
      "metadata": {
        "id": "EDLiD0XSd_4v",
        "colab_type": "code",
        "colab": {}
      },
      "source": [
        "#Renaming columns in fifa_ranking \n",
        "\n",
        "fifa_ranking = fifa_ranking.rename(columns = {'rank_date':'date'})\n",
        "#fifa_ranking = fifa_ranking.rename(columns = {'country_full':'country'})"
      ],
      "execution_count": null,
      "outputs": []
    },
    {
      "cell_type": "code",
      "metadata": {
        "id": "NDfuA0pLkWS5",
        "colab_type": "code",
        "colab": {}
      },
      "source": [
        "#standardising the data\n",
        "\n",
        "#lowering country names in both dataframes\n",
        "\n",
        "results['country'] = results['country'].str.lower()\n",
        "results['home_team'] = results['home_team'].str.lower()\n",
        "results['away_team'] = results['away_team'].str.lower()\n",
        "fifa_ranking['country_full'] = fifa_ranking['country_full'].str.lower()         "
      ],
      "execution_count": null,
      "outputs": []
    },
    {
      "cell_type": "markdown",
      "metadata": {
        "id": "u1n_csZEZrFO",
        "colab_type": "text"
      },
      "source": [
        "#### Feature Engineering"
      ]
    },
    {
      "cell_type": "code",
      "metadata": {
        "id": "x8N7jLvdfoW1",
        "colab_type": "code",
        "colab": {}
      },
      "source": [
        "#Splitting date to month and years\n",
        "\n",
        "#fifa_ranking\n",
        "fifa_ranking['year'] = fifa_ranking.date.dt.year\n",
        "fifa_ranking['month'] = fifa_ranking.date.dt.month\n",
        "\n",
        "#results\n",
        "results['year'] = results.date.dt.year\n",
        "results['month'] = results.date.dt.month"
      ],
      "execution_count": null,
      "outputs": []
    },
    {
      "cell_type": "code",
      "metadata": {
        "id": "4xsmBcUD-g2r",
        "colab_type": "code",
        "colab": {
          "base_uri": "https://localhost:8080/",
          "height": 161
        },
        "outputId": "83daa54e-a6e1-40c1-e792-b9dafb68ae2a"
      },
      "source": [
        "fifa_ranking.head(2)"
      ],
      "execution_count": null,
      "outputs": [
        {
          "output_type": "execute_result",
          "data": {
            "text/html": [
              "<div>\n",
              "<style scoped>\n",
              "    .dataframe tbody tr th:only-of-type {\n",
              "        vertical-align: middle;\n",
              "    }\n",
              "\n",
              "    .dataframe tbody tr th {\n",
              "        vertical-align: top;\n",
              "    }\n",
              "\n",
              "    .dataframe thead th {\n",
              "        text-align: right;\n",
              "    }\n",
              "</style>\n",
              "<table border=\"1\" class=\"dataframe\">\n",
              "  <thead>\n",
              "    <tr style=\"text-align: right;\">\n",
              "      <th></th>\n",
              "      <th>rank</th>\n",
              "      <th>country_full</th>\n",
              "      <th>country_abrv</th>\n",
              "      <th>total_points</th>\n",
              "      <th>previous_points</th>\n",
              "      <th>rank_change</th>\n",
              "      <th>cur_year_avg</th>\n",
              "      <th>cur_year_avg_weighted</th>\n",
              "      <th>last_year_avg</th>\n",
              "      <th>last_year_avg_weighted</th>\n",
              "      <th>two_year_ago_avg</th>\n",
              "      <th>two_year_ago_weighted</th>\n",
              "      <th>three_year_ago_avg</th>\n",
              "      <th>three_year_ago_weighted</th>\n",
              "      <th>confederation</th>\n",
              "      <th>date</th>\n",
              "      <th>year</th>\n",
              "      <th>month</th>\n",
              "    </tr>\n",
              "  </thead>\n",
              "  <tbody>\n",
              "    <tr>\n",
              "      <th>0</th>\n",
              "      <td>1</td>\n",
              "      <td>germany</td>\n",
              "      <td>GER</td>\n",
              "      <td>0.0</td>\n",
              "      <td>57</td>\n",
              "      <td>0</td>\n",
              "      <td>0.0</td>\n",
              "      <td>0.0</td>\n",
              "      <td>0.0</td>\n",
              "      <td>0.0</td>\n",
              "      <td>0.0</td>\n",
              "      <td>0.0</td>\n",
              "      <td>0.0</td>\n",
              "      <td>0.0</td>\n",
              "      <td>UEFA</td>\n",
              "      <td>1993-08-08</td>\n",
              "      <td>1993</td>\n",
              "      <td>8</td>\n",
              "    </tr>\n",
              "    <tr>\n",
              "      <th>1</th>\n",
              "      <td>2</td>\n",
              "      <td>italy</td>\n",
              "      <td>ITA</td>\n",
              "      <td>0.0</td>\n",
              "      <td>57</td>\n",
              "      <td>0</td>\n",
              "      <td>0.0</td>\n",
              "      <td>0.0</td>\n",
              "      <td>0.0</td>\n",
              "      <td>0.0</td>\n",
              "      <td>0.0</td>\n",
              "      <td>0.0</td>\n",
              "      <td>0.0</td>\n",
              "      <td>0.0</td>\n",
              "      <td>UEFA</td>\n",
              "      <td>1993-08-08</td>\n",
              "      <td>1993</td>\n",
              "      <td>8</td>\n",
              "    </tr>\n",
              "  </tbody>\n",
              "</table>\n",
              "</div>"
            ],
            "text/plain": [
              "   rank country_full country_abrv  ...       date  year  month\n",
              "0     1      germany          GER  ... 1993-08-08  1993      8\n",
              "1     2        italy          ITA  ... 1993-08-08  1993      8\n",
              "\n",
              "[2 rows x 18 columns]"
            ]
          },
          "metadata": {
            "tags": []
          },
          "execution_count": 24
        }
      ]
    },
    {
      "cell_type": "code",
      "metadata": {
        "id": "mNqw6Pay0Ic7",
        "colab_type": "code",
        "colab": {
          "base_uri": "https://localhost:8080/",
          "height": 514
        },
        "outputId": "1b3bbd4e-1689-4cf2-d30e-9ba6cf9cffae"
      },
      "source": [
        "fifa = pd.merge(results, fifa_ranking, how = 'left', on = ['year', 'month'])\n",
        "\n",
        "#fifa shape and null values    \n",
        "print(\"Duplicates: \",fifa.duplicated().any()) \n",
        "fifa.isnull().sum()   "
      ],
      "execution_count": null,
      "outputs": [
        {
          "output_type": "stream",
          "text": [
            "Duplicates:  False\n"
          ],
          "name": "stdout"
        },
        {
          "output_type": "execute_result",
          "data": {
            "text/plain": [
              "date_x                        0\n",
              "home_team                     0\n",
              "away_team                     0\n",
              "home_score                    0\n",
              "away_score                    0\n",
              "tournament                    0\n",
              "country                       0\n",
              "neutral                       0\n",
              "year                          0\n",
              "month                         0\n",
              "rank                       2416\n",
              "country_full               2416\n",
              "country_abrv               2416\n",
              "total_points               2416\n",
              "previous_points            2416\n",
              "rank_change                2416\n",
              "cur_year_avg               2416\n",
              "cur_year_avg_weighted      2416\n",
              "last_year_avg              2416\n",
              "last_year_avg_weighted     2416\n",
              "two_year_ago_avg           2416\n",
              "two_year_ago_weighted      2416\n",
              "three_year_ago_avg         2416\n",
              "three_year_ago_weighted    2416\n",
              "confederation              2416\n",
              "date_y                     2416\n",
              "dtype: int64"
            ]
          },
          "metadata": {
            "tags": []
          },
          "execution_count": 25
        }
      ]
    },
    {
      "cell_type": "code",
      "metadata": {
        "id": "5oqwNBnSi0Hw",
        "colab_type": "code",
        "colab": {}
      },
      "source": [
        "#Getting rank of home team\n",
        "home_rank = fifa[fifa['home_team'] == fifa['country_full']]\n",
        "\n",
        "#Getting rank of away team\n",
        "away_rank = fifa[fifa['away_team'] == fifa['country_full']]"
      ],
      "execution_count": null,
      "outputs": []
    },
    {
      "cell_type": "code",
      "metadata": {
        "id": "vnsNVeaNL51l",
        "colab_type": "code",
        "colab": {
          "base_uri": "https://localhost:8080/",
          "height": 131
        },
        "outputId": "0ea6791d-6bb9-4d07-fbc8-fe5d9f071edb"
      },
      "source": [
        "#Selecting relevant columns and differentiating the columns for home_rank and away_rank\n",
        "#away_rank\n",
        "away_rank = away_rank[['date_x','country_full','home_team','away_team','home_score','away_score','tournament'\n",
        ",'neutral','year','month','rank','total_points','cur_year_avg_weighted','last_year_avg_weighted','two_year_ago_weighted'\n",
        "                       ,'three_year_ago_weighted']]\n",
        "\n",
        "#renaming the home_rank columns\n",
        "away_rank = away_rank.rename(columns = {'date_x':'date',\n",
        "                            'rank':'rank_away',\n",
        "                            'cur_year_avg_weighted':'cur_year_weighted_aw',\n",
        "                            'last_year_avg_weighted':'last_year_weighted_aw',\n",
        "                            'two_year_ago_weighted':'two_year_weighted_aw',\n",
        "                            'three_year_ago_weighted':'three_year_weighted_aw',\n",
        "                            'total_points':'total_points_aw'})\n",
        "\n",
        "away_rank.drop(columns = ['country_full'], inplace=True)\n",
        "\n",
        "away_rank.head(1)"
      ],
      "execution_count": null,
      "outputs": [
        {
          "output_type": "execute_result",
          "data": {
            "text/html": [
              "<div>\n",
              "<style scoped>\n",
              "    .dataframe tbody tr th:only-of-type {\n",
              "        vertical-align: middle;\n",
              "    }\n",
              "\n",
              "    .dataframe tbody tr th {\n",
              "        vertical-align: top;\n",
              "    }\n",
              "\n",
              "    .dataframe thead th {\n",
              "        text-align: right;\n",
              "    }\n",
              "</style>\n",
              "<table border=\"1\" class=\"dataframe\">\n",
              "  <thead>\n",
              "    <tr style=\"text-align: right;\">\n",
              "      <th></th>\n",
              "      <th>date</th>\n",
              "      <th>home_team</th>\n",
              "      <th>away_team</th>\n",
              "      <th>home_score</th>\n",
              "      <th>away_score</th>\n",
              "      <th>tournament</th>\n",
              "      <th>neutral</th>\n",
              "      <th>year</th>\n",
              "      <th>month</th>\n",
              "      <th>rank_away</th>\n",
              "      <th>total_points_aw</th>\n",
              "      <th>cur_year_weighted_aw</th>\n",
              "      <th>last_year_weighted_aw</th>\n",
              "      <th>two_year_weighted_aw</th>\n",
              "      <th>three_year_weighted_aw</th>\n",
              "    </tr>\n",
              "  </thead>\n",
              "  <tbody>\n",
              "    <tr>\n",
              "      <th>614</th>\n",
              "      <td>1993-08-01</td>\n",
              "      <td>colombia</td>\n",
              "      <td>paraguay</td>\n",
              "      <td>0</td>\n",
              "      <td>0</td>\n",
              "      <td>FIFA World Cup qualification</td>\n",
              "      <td>False</td>\n",
              "      <td>1993</td>\n",
              "      <td>8</td>\n",
              "      <td>67.0</td>\n",
              "      <td>0.0</td>\n",
              "      <td>0.0</td>\n",
              "      <td>0.0</td>\n",
              "      <td>0.0</td>\n",
              "      <td>0.0</td>\n",
              "    </tr>\n",
              "  </tbody>\n",
              "</table>\n",
              "</div>"
            ],
            "text/plain": [
              "          date home_team  ... two_year_weighted_aw  three_year_weighted_aw\n",
              "614 1993-08-01  colombia  ...                  0.0                     0.0\n",
              "\n",
              "[1 rows x 15 columns]"
            ]
          },
          "metadata": {
            "tags": []
          },
          "execution_count": 27
        }
      ]
    },
    {
      "cell_type": "code",
      "metadata": {
        "id": "uwbdtWAxSH-X",
        "colab_type": "code",
        "colab": {}
      },
      "source": [
        "#home_rank\n",
        "home_rank = home_rank[['date_x','country_full','home_team','away_team','home_score','away_score','tournament'\n",
        ",'neutral','year','month','rank','total_points','cur_year_avg_weighted','last_year_avg_weighted','two_year_ago_weighted'\n",
        "                       ,'three_year_ago_weighted']]\n",
        "\n",
        "#renaming the home_rank columns\n",
        "home_rank = home_rank.rename(columns = {'date_x':'date',\n",
        "                            'rank':'rank_home',\n",
        "                            'cur_year_avg_weighted':'cur_year_weighted_hm',\n",
        "                            'last_year_avg_weighted':'last_year_weighted_hm',\n",
        "                            'two_year_ago_weighted':'two_year_weighted_hm',\n",
        "                            'three_year_ago_weighted':'three_year_weighted_hm',\n",
        "                            'total_points':'total_points_hm'})"
      ],
      "execution_count": null,
      "outputs": []
    },
    {
      "cell_type": "code",
      "metadata": {
        "id": "4HP3syhwmJ9p",
        "colab_type": "code",
        "colab": {
          "base_uri": "https://localhost:8080/",
          "height": 257
        },
        "outputId": "eb2c8b03-77a9-4308-e41d-0d86c6c46fc2"
      },
      "source": [
        "#Not dropping country_full in home_rank\n",
        "home_rank.head(3)"
      ],
      "execution_count": null,
      "outputs": [
        {
          "output_type": "execute_result",
          "data": {
            "text/html": [
              "<div>\n",
              "<style scoped>\n",
              "    .dataframe tbody tr th:only-of-type {\n",
              "        vertical-align: middle;\n",
              "    }\n",
              "\n",
              "    .dataframe tbody tr th {\n",
              "        vertical-align: top;\n",
              "    }\n",
              "\n",
              "    .dataframe thead th {\n",
              "        text-align: right;\n",
              "    }\n",
              "</style>\n",
              "<table border=\"1\" class=\"dataframe\">\n",
              "  <thead>\n",
              "    <tr style=\"text-align: right;\">\n",
              "      <th></th>\n",
              "      <th>date</th>\n",
              "      <th>country_full</th>\n",
              "      <th>home_team</th>\n",
              "      <th>away_team</th>\n",
              "      <th>home_score</th>\n",
              "      <th>away_score</th>\n",
              "      <th>tournament</th>\n",
              "      <th>neutral</th>\n",
              "      <th>year</th>\n",
              "      <th>month</th>\n",
              "      <th>rank_home</th>\n",
              "      <th>total_points_hm</th>\n",
              "      <th>cur_year_weighted_hm</th>\n",
              "      <th>last_year_weighted_hm</th>\n",
              "      <th>two_year_weighted_hm</th>\n",
              "      <th>three_year_weighted_hm</th>\n",
              "    </tr>\n",
              "  </thead>\n",
              "  <tbody>\n",
              "    <tr>\n",
              "      <th>566</th>\n",
              "      <td>1993-08-01</td>\n",
              "      <td>colombia</td>\n",
              "      <td>colombia</td>\n",
              "      <td>paraguay</td>\n",
              "      <td>0</td>\n",
              "      <td>0</td>\n",
              "      <td>FIFA World Cup qualification</td>\n",
              "      <td>False</td>\n",
              "      <td>1993</td>\n",
              "      <td>8</td>\n",
              "      <td>19.0</td>\n",
              "      <td>0.0</td>\n",
              "      <td>0.0</td>\n",
              "      <td>0.0</td>\n",
              "      <td>0.0</td>\n",
              "      <td>0.0</td>\n",
              "    </tr>\n",
              "    <tr>\n",
              "      <th>784</th>\n",
              "      <td>1993-08-01</td>\n",
              "      <td>peru</td>\n",
              "      <td>peru</td>\n",
              "      <td>argentina</td>\n",
              "      <td>0</td>\n",
              "      <td>1</td>\n",
              "      <td>FIFA World Cup qualification</td>\n",
              "      <td>False</td>\n",
              "      <td>1993</td>\n",
              "      <td>8</td>\n",
              "      <td>70.0</td>\n",
              "      <td>0.0</td>\n",
              "      <td>0.0</td>\n",
              "      <td>0.0</td>\n",
              "      <td>0.0</td>\n",
              "      <td>0.0</td>\n",
              "    </tr>\n",
              "    <tr>\n",
              "      <th>903</th>\n",
              "      <td>1993-08-01</td>\n",
              "      <td>uruguay</td>\n",
              "      <td>uruguay</td>\n",
              "      <td>ecuador</td>\n",
              "      <td>0</td>\n",
              "      <td>0</td>\n",
              "      <td>FIFA World Cup qualification</td>\n",
              "      <td>False</td>\n",
              "      <td>1993</td>\n",
              "      <td>8</td>\n",
              "      <td>22.0</td>\n",
              "      <td>0.0</td>\n",
              "      <td>0.0</td>\n",
              "      <td>0.0</td>\n",
              "      <td>0.0</td>\n",
              "      <td>0.0</td>\n",
              "    </tr>\n",
              "  </tbody>\n",
              "</table>\n",
              "</div>"
            ],
            "text/plain": [
              "          date country_full  ... two_year_weighted_hm three_year_weighted_hm\n",
              "566 1993-08-01     colombia  ...                  0.0                    0.0\n",
              "784 1993-08-01         peru  ...                  0.0                    0.0\n",
              "903 1993-08-01      uruguay  ...                  0.0                    0.0\n",
              "\n",
              "[3 rows x 16 columns]"
            ]
          },
          "metadata": {
            "tags": []
          },
          "execution_count": 29
        }
      ]
    },
    {
      "cell_type": "code",
      "metadata": {
        "id": "04ndSTtXb8gC",
        "colab_type": "code",
        "colab": {
          "base_uri": "https://localhost:8080/",
          "height": 384
        },
        "outputId": "5d4997de-80e9-4d16-f919-7e64898c792e"
      },
      "source": [
        "#Merging the two dataframes using inner join to retain only rows in both datasets\n",
        "\n",
        "fifa_rank = pd.merge(home_rank, away_rank, how = 'inner' , on =['year', 'month', 'home_team', 'away_team'])\n",
        "fifa_rank.head()"
      ],
      "execution_count": null,
      "outputs": [
        {
          "output_type": "execute_result",
          "data": {
            "text/html": [
              "<div>\n",
              "<style scoped>\n",
              "    .dataframe tbody tr th:only-of-type {\n",
              "        vertical-align: middle;\n",
              "    }\n",
              "\n",
              "    .dataframe tbody tr th {\n",
              "        vertical-align: top;\n",
              "    }\n",
              "\n",
              "    .dataframe thead th {\n",
              "        text-align: right;\n",
              "    }\n",
              "</style>\n",
              "<table border=\"1\" class=\"dataframe\">\n",
              "  <thead>\n",
              "    <tr style=\"text-align: right;\">\n",
              "      <th></th>\n",
              "      <th>date_x</th>\n",
              "      <th>country_full</th>\n",
              "      <th>home_team</th>\n",
              "      <th>away_team</th>\n",
              "      <th>home_score_x</th>\n",
              "      <th>away_score_x</th>\n",
              "      <th>tournament_x</th>\n",
              "      <th>neutral_x</th>\n",
              "      <th>year</th>\n",
              "      <th>month</th>\n",
              "      <th>rank_home</th>\n",
              "      <th>total_points_hm</th>\n",
              "      <th>cur_year_weighted_hm</th>\n",
              "      <th>last_year_weighted_hm</th>\n",
              "      <th>two_year_weighted_hm</th>\n",
              "      <th>three_year_weighted_hm</th>\n",
              "      <th>date_y</th>\n",
              "      <th>home_score_y</th>\n",
              "      <th>away_score_y</th>\n",
              "      <th>tournament_y</th>\n",
              "      <th>neutral_y</th>\n",
              "      <th>rank_away</th>\n",
              "      <th>total_points_aw</th>\n",
              "      <th>cur_year_weighted_aw</th>\n",
              "      <th>last_year_weighted_aw</th>\n",
              "      <th>two_year_weighted_aw</th>\n",
              "      <th>three_year_weighted_aw</th>\n",
              "    </tr>\n",
              "  </thead>\n",
              "  <tbody>\n",
              "    <tr>\n",
              "      <th>0</th>\n",
              "      <td>1993-08-01</td>\n",
              "      <td>colombia</td>\n",
              "      <td>colombia</td>\n",
              "      <td>paraguay</td>\n",
              "      <td>0</td>\n",
              "      <td>0</td>\n",
              "      <td>FIFA World Cup qualification</td>\n",
              "      <td>False</td>\n",
              "      <td>1993</td>\n",
              "      <td>8</td>\n",
              "      <td>19.0</td>\n",
              "      <td>0.0</td>\n",
              "      <td>0.0</td>\n",
              "      <td>0.0</td>\n",
              "      <td>0.0</td>\n",
              "      <td>0.0</td>\n",
              "      <td>1993-08-01</td>\n",
              "      <td>0</td>\n",
              "      <td>0</td>\n",
              "      <td>FIFA World Cup qualification</td>\n",
              "      <td>False</td>\n",
              "      <td>67.0</td>\n",
              "      <td>0.0</td>\n",
              "      <td>0.0</td>\n",
              "      <td>0.0</td>\n",
              "      <td>0.0</td>\n",
              "      <td>0.0</td>\n",
              "    </tr>\n",
              "    <tr>\n",
              "      <th>1</th>\n",
              "      <td>1993-08-01</td>\n",
              "      <td>peru</td>\n",
              "      <td>peru</td>\n",
              "      <td>argentina</td>\n",
              "      <td>0</td>\n",
              "      <td>1</td>\n",
              "      <td>FIFA World Cup qualification</td>\n",
              "      <td>False</td>\n",
              "      <td>1993</td>\n",
              "      <td>8</td>\n",
              "      <td>70.0</td>\n",
              "      <td>0.0</td>\n",
              "      <td>0.0</td>\n",
              "      <td>0.0</td>\n",
              "      <td>0.0</td>\n",
              "      <td>0.0</td>\n",
              "      <td>1993-08-01</td>\n",
              "      <td>0</td>\n",
              "      <td>1</td>\n",
              "      <td>FIFA World Cup qualification</td>\n",
              "      <td>False</td>\n",
              "      <td>5.0</td>\n",
              "      <td>0.0</td>\n",
              "      <td>0.0</td>\n",
              "      <td>0.0</td>\n",
              "      <td>0.0</td>\n",
              "      <td>0.0</td>\n",
              "    </tr>\n",
              "    <tr>\n",
              "      <th>2</th>\n",
              "      <td>1993-08-01</td>\n",
              "      <td>uruguay</td>\n",
              "      <td>uruguay</td>\n",
              "      <td>ecuador</td>\n",
              "      <td>0</td>\n",
              "      <td>0</td>\n",
              "      <td>FIFA World Cup qualification</td>\n",
              "      <td>False</td>\n",
              "      <td>1993</td>\n",
              "      <td>8</td>\n",
              "      <td>22.0</td>\n",
              "      <td>0.0</td>\n",
              "      <td>0.0</td>\n",
              "      <td>0.0</td>\n",
              "      <td>0.0</td>\n",
              "      <td>0.0</td>\n",
              "      <td>1993-08-01</td>\n",
              "      <td>0</td>\n",
              "      <td>0</td>\n",
              "      <td>FIFA World Cup qualification</td>\n",
              "      <td>False</td>\n",
              "      <td>35.0</td>\n",
              "      <td>0.0</td>\n",
              "      <td>0.0</td>\n",
              "      <td>0.0</td>\n",
              "      <td>0.0</td>\n",
              "      <td>0.0</td>\n",
              "    </tr>\n",
              "    <tr>\n",
              "      <th>3</th>\n",
              "      <td>1993-08-01</td>\n",
              "      <td>venezuela</td>\n",
              "      <td>venezuela</td>\n",
              "      <td>brazil</td>\n",
              "      <td>1</td>\n",
              "      <td>5</td>\n",
              "      <td>FIFA World Cup qualification</td>\n",
              "      <td>False</td>\n",
              "      <td>1993</td>\n",
              "      <td>8</td>\n",
              "      <td>94.0</td>\n",
              "      <td>0.0</td>\n",
              "      <td>0.0</td>\n",
              "      <td>0.0</td>\n",
              "      <td>0.0</td>\n",
              "      <td>0.0</td>\n",
              "      <td>1993-08-01</td>\n",
              "      <td>1</td>\n",
              "      <td>5</td>\n",
              "      <td>FIFA World Cup qualification</td>\n",
              "      <td>False</td>\n",
              "      <td>8.0</td>\n",
              "      <td>0.0</td>\n",
              "      <td>0.0</td>\n",
              "      <td>0.0</td>\n",
              "      <td>0.0</td>\n",
              "      <td>0.0</td>\n",
              "    </tr>\n",
              "    <tr>\n",
              "      <th>4</th>\n",
              "      <td>1993-08-07</td>\n",
              "      <td>senegal</td>\n",
              "      <td>senegal</td>\n",
              "      <td>zambia</td>\n",
              "      <td>0</td>\n",
              "      <td>0</td>\n",
              "      <td>FIFA World Cup qualification</td>\n",
              "      <td>True</td>\n",
              "      <td>1993</td>\n",
              "      <td>8</td>\n",
              "      <td>58.0</td>\n",
              "      <td>0.0</td>\n",
              "      <td>0.0</td>\n",
              "      <td>0.0</td>\n",
              "      <td>0.0</td>\n",
              "      <td>0.0</td>\n",
              "      <td>1993-08-07</td>\n",
              "      <td>0</td>\n",
              "      <td>0</td>\n",
              "      <td>FIFA World Cup qualification</td>\n",
              "      <td>True</td>\n",
              "      <td>25.0</td>\n",
              "      <td>0.0</td>\n",
              "      <td>0.0</td>\n",
              "      <td>0.0</td>\n",
              "      <td>0.0</td>\n",
              "      <td>0.0</td>\n",
              "    </tr>\n",
              "  </tbody>\n",
              "</table>\n",
              "</div>"
            ],
            "text/plain": [
              "      date_x country_full  ... two_year_weighted_aw three_year_weighted_aw\n",
              "0 1993-08-01     colombia  ...                  0.0                    0.0\n",
              "1 1993-08-01         peru  ...                  0.0                    0.0\n",
              "2 1993-08-01      uruguay  ...                  0.0                    0.0\n",
              "3 1993-08-01    venezuela  ...                  0.0                    0.0\n",
              "4 1993-08-07      senegal  ...                  0.0                    0.0\n",
              "\n",
              "[5 rows x 27 columns]"
            ]
          },
          "metadata": {
            "tags": []
          },
          "execution_count": 30
        }
      ]
    },
    {
      "cell_type": "code",
      "metadata": {
        "id": "wTG5-v3YgoMG",
        "colab_type": "code",
        "colab": {}
      },
      "source": [
        "#Dropping redundant columns\n",
        "fifa_rank = fifa_rank.drop(columns=['home_score_y','away_score_y','tournament_y','neutral_y','date_y'])"
      ],
      "execution_count": null,
      "outputs": []
    },
    {
      "cell_type": "code",
      "metadata": {
        "id": "8I1knqnFrycH",
        "colab_type": "code",
        "colab": {
          "base_uri": "https://localhost:8080/",
          "height": 532
        },
        "outputId": "0f10d524-ec57-4767-fd17-704a2294ae6d"
      },
      "source": [
        "#checking for null values\n",
        "fifa_rank.info()"
      ],
      "execution_count": null,
      "outputs": [
        {
          "output_type": "stream",
          "text": [
            "<class 'pandas.core.frame.DataFrame'>\n",
            "Int64Index: 17632 entries, 0 to 17631\n",
            "Data columns (total 22 columns):\n",
            " #   Column                  Non-Null Count  Dtype         \n",
            "---  ------                  --------------  -----         \n",
            " 0   date_x                  17632 non-null  datetime64[ns]\n",
            " 1   country_full            17632 non-null  object        \n",
            " 2   home_team               17632 non-null  object        \n",
            " 3   away_team               17632 non-null  object        \n",
            " 4   home_score_x            17632 non-null  int64         \n",
            " 5   away_score_x            17632 non-null  int64         \n",
            " 6   tournament_x            17632 non-null  object        \n",
            " 7   neutral_x               17632 non-null  bool          \n",
            " 8   year                    17632 non-null  int64         \n",
            " 9   month                   17632 non-null  int64         \n",
            " 10  rank_home               17632 non-null  float64       \n",
            " 11  total_points_hm         17632 non-null  float64       \n",
            " 12  cur_year_weighted_hm    17632 non-null  float64       \n",
            " 13  last_year_weighted_hm   17632 non-null  float64       \n",
            " 14  two_year_weighted_hm    17632 non-null  float64       \n",
            " 15  three_year_weighted_hm  17632 non-null  float64       \n",
            " 16  rank_away               17632 non-null  float64       \n",
            " 17  total_points_aw         17632 non-null  float64       \n",
            " 18  cur_year_weighted_aw    17632 non-null  float64       \n",
            " 19  last_year_weighted_aw   17632 non-null  float64       \n",
            " 20  two_year_weighted_aw    17632 non-null  float64       \n",
            " 21  three_year_weighted_aw  17632 non-null  float64       \n",
            "dtypes: bool(1), datetime64[ns](1), float64(12), int64(4), object(4)\n",
            "memory usage: 3.0+ MB\n"
          ],
          "name": "stdout"
        }
      ]
    },
    {
      "cell_type": "code",
      "metadata": {
        "id": "ToufpxaEQh5K",
        "colab_type": "code",
        "colab": {}
      },
      "source": [
        "#Finding total goals scored by a team\n",
        "fifa_rank['goals_scored'] = fifa_rank['home_score_x'] + fifa_rank['away_score_x']"
      ],
      "execution_count": null,
      "outputs": []
    },
    {
      "cell_type": "code",
      "metadata": {
        "id": "FE1aq9rAZmKG",
        "colab_type": "code",
        "colab": {
          "base_uri": "https://localhost:8080/",
          "height": 321
        },
        "outputId": "8633de75-ca3e-4aba-bdc6-43e6d1fccc24"
      },
      "source": [
        "#Finding Goal Difference to determine if Win, Lose or Draw and assigning to new column goal\n",
        "\n",
        "fifa_rank['goal_difference'] = fifa_rank['home_score_x'] - fifa_rank['away_score_x']\n",
        "\n",
        "def outcome(goal_difference):\n",
        "    if goal_difference > 0:\n",
        "        return 'W'\n",
        "    elif goal_difference < 0:\n",
        "        return 'L'\n",
        "    else:\n",
        "        return 'D'\n",
        "\n",
        "#Running the outcome function to new column outcome\n",
        "\n",
        "fifa_rank['outcome'] = fifa_rank.goal_difference.apply(lambda x: outcome(x))\n",
        "fifa_rank.head(4)"
      ],
      "execution_count": null,
      "outputs": [
        {
          "output_type": "execute_result",
          "data": {
            "text/html": [
              "<div>\n",
              "<style scoped>\n",
              "    .dataframe tbody tr th:only-of-type {\n",
              "        vertical-align: middle;\n",
              "    }\n",
              "\n",
              "    .dataframe tbody tr th {\n",
              "        vertical-align: top;\n",
              "    }\n",
              "\n",
              "    .dataframe thead th {\n",
              "        text-align: right;\n",
              "    }\n",
              "</style>\n",
              "<table border=\"1\" class=\"dataframe\">\n",
              "  <thead>\n",
              "    <tr style=\"text-align: right;\">\n",
              "      <th></th>\n",
              "      <th>date_x</th>\n",
              "      <th>country_full</th>\n",
              "      <th>home_team</th>\n",
              "      <th>away_team</th>\n",
              "      <th>home_score_x</th>\n",
              "      <th>away_score_x</th>\n",
              "      <th>tournament_x</th>\n",
              "      <th>neutral_x</th>\n",
              "      <th>year</th>\n",
              "      <th>month</th>\n",
              "      <th>rank_home</th>\n",
              "      <th>total_points_hm</th>\n",
              "      <th>cur_year_weighted_hm</th>\n",
              "      <th>last_year_weighted_hm</th>\n",
              "      <th>two_year_weighted_hm</th>\n",
              "      <th>three_year_weighted_hm</th>\n",
              "      <th>rank_away</th>\n",
              "      <th>total_points_aw</th>\n",
              "      <th>cur_year_weighted_aw</th>\n",
              "      <th>last_year_weighted_aw</th>\n",
              "      <th>two_year_weighted_aw</th>\n",
              "      <th>three_year_weighted_aw</th>\n",
              "      <th>goals_scored</th>\n",
              "      <th>goal_difference</th>\n",
              "      <th>outcome</th>\n",
              "    </tr>\n",
              "  </thead>\n",
              "  <tbody>\n",
              "    <tr>\n",
              "      <th>0</th>\n",
              "      <td>1993-08-01</td>\n",
              "      <td>colombia</td>\n",
              "      <td>colombia</td>\n",
              "      <td>paraguay</td>\n",
              "      <td>0</td>\n",
              "      <td>0</td>\n",
              "      <td>FIFA World Cup qualification</td>\n",
              "      <td>False</td>\n",
              "      <td>1993</td>\n",
              "      <td>8</td>\n",
              "      <td>19.0</td>\n",
              "      <td>0.0</td>\n",
              "      <td>0.0</td>\n",
              "      <td>0.0</td>\n",
              "      <td>0.0</td>\n",
              "      <td>0.0</td>\n",
              "      <td>67.0</td>\n",
              "      <td>0.0</td>\n",
              "      <td>0.0</td>\n",
              "      <td>0.0</td>\n",
              "      <td>0.0</td>\n",
              "      <td>0.0</td>\n",
              "      <td>0</td>\n",
              "      <td>0</td>\n",
              "      <td>D</td>\n",
              "    </tr>\n",
              "    <tr>\n",
              "      <th>1</th>\n",
              "      <td>1993-08-01</td>\n",
              "      <td>peru</td>\n",
              "      <td>peru</td>\n",
              "      <td>argentina</td>\n",
              "      <td>0</td>\n",
              "      <td>1</td>\n",
              "      <td>FIFA World Cup qualification</td>\n",
              "      <td>False</td>\n",
              "      <td>1993</td>\n",
              "      <td>8</td>\n",
              "      <td>70.0</td>\n",
              "      <td>0.0</td>\n",
              "      <td>0.0</td>\n",
              "      <td>0.0</td>\n",
              "      <td>0.0</td>\n",
              "      <td>0.0</td>\n",
              "      <td>5.0</td>\n",
              "      <td>0.0</td>\n",
              "      <td>0.0</td>\n",
              "      <td>0.0</td>\n",
              "      <td>0.0</td>\n",
              "      <td>0.0</td>\n",
              "      <td>1</td>\n",
              "      <td>-1</td>\n",
              "      <td>L</td>\n",
              "    </tr>\n",
              "    <tr>\n",
              "      <th>2</th>\n",
              "      <td>1993-08-01</td>\n",
              "      <td>uruguay</td>\n",
              "      <td>uruguay</td>\n",
              "      <td>ecuador</td>\n",
              "      <td>0</td>\n",
              "      <td>0</td>\n",
              "      <td>FIFA World Cup qualification</td>\n",
              "      <td>False</td>\n",
              "      <td>1993</td>\n",
              "      <td>8</td>\n",
              "      <td>22.0</td>\n",
              "      <td>0.0</td>\n",
              "      <td>0.0</td>\n",
              "      <td>0.0</td>\n",
              "      <td>0.0</td>\n",
              "      <td>0.0</td>\n",
              "      <td>35.0</td>\n",
              "      <td>0.0</td>\n",
              "      <td>0.0</td>\n",
              "      <td>0.0</td>\n",
              "      <td>0.0</td>\n",
              "      <td>0.0</td>\n",
              "      <td>0</td>\n",
              "      <td>0</td>\n",
              "      <td>D</td>\n",
              "    </tr>\n",
              "    <tr>\n",
              "      <th>3</th>\n",
              "      <td>1993-08-01</td>\n",
              "      <td>venezuela</td>\n",
              "      <td>venezuela</td>\n",
              "      <td>brazil</td>\n",
              "      <td>1</td>\n",
              "      <td>5</td>\n",
              "      <td>FIFA World Cup qualification</td>\n",
              "      <td>False</td>\n",
              "      <td>1993</td>\n",
              "      <td>8</td>\n",
              "      <td>94.0</td>\n",
              "      <td>0.0</td>\n",
              "      <td>0.0</td>\n",
              "      <td>0.0</td>\n",
              "      <td>0.0</td>\n",
              "      <td>0.0</td>\n",
              "      <td>8.0</td>\n",
              "      <td>0.0</td>\n",
              "      <td>0.0</td>\n",
              "      <td>0.0</td>\n",
              "      <td>0.0</td>\n",
              "      <td>0.0</td>\n",
              "      <td>6</td>\n",
              "      <td>-4</td>\n",
              "      <td>L</td>\n",
              "    </tr>\n",
              "  </tbody>\n",
              "</table>\n",
              "</div>"
            ],
            "text/plain": [
              "      date_x country_full  home_team  ... goals_scored  goal_difference  outcome\n",
              "0 1993-08-01     colombia   colombia  ...            0                0        D\n",
              "1 1993-08-01         peru       peru  ...            1               -1        L\n",
              "2 1993-08-01      uruguay    uruguay  ...            0                0        D\n",
              "3 1993-08-01    venezuela  venezuela  ...            6               -4        L\n",
              "\n",
              "[4 rows x 25 columns]"
            ]
          },
          "metadata": {
            "tags": []
          },
          "execution_count": 34
        }
      ]
    },
    {
      "cell_type": "code",
      "metadata": {
        "id": "9p5B7J57ov91",
        "colab_type": "code",
        "colab": {
          "base_uri": "https://localhost:8080/",
          "height": 207
        },
        "outputId": "ec20c6ca-27d3-4317-84b5-88a87a97c4f4"
      },
      "source": [
        "fifa_rank.tail(3)"
      ],
      "execution_count": null,
      "outputs": [
        {
          "output_type": "execute_result",
          "data": {
            "text/html": [
              "<div>\n",
              "<style scoped>\n",
              "    .dataframe tbody tr th:only-of-type {\n",
              "        vertical-align: middle;\n",
              "    }\n",
              "\n",
              "    .dataframe tbody tr th {\n",
              "        vertical-align: top;\n",
              "    }\n",
              "\n",
              "    .dataframe thead th {\n",
              "        text-align: right;\n",
              "    }\n",
              "</style>\n",
              "<table border=\"1\" class=\"dataframe\">\n",
              "  <thead>\n",
              "    <tr style=\"text-align: right;\">\n",
              "      <th></th>\n",
              "      <th>date_x</th>\n",
              "      <th>country_full</th>\n",
              "      <th>home_team</th>\n",
              "      <th>away_team</th>\n",
              "      <th>home_score_x</th>\n",
              "      <th>away_score_x</th>\n",
              "      <th>tournament_x</th>\n",
              "      <th>neutral_x</th>\n",
              "      <th>year</th>\n",
              "      <th>month</th>\n",
              "      <th>rank_home</th>\n",
              "      <th>total_points_hm</th>\n",
              "      <th>cur_year_weighted_hm</th>\n",
              "      <th>last_year_weighted_hm</th>\n",
              "      <th>two_year_weighted_hm</th>\n",
              "      <th>three_year_weighted_hm</th>\n",
              "      <th>rank_away</th>\n",
              "      <th>total_points_aw</th>\n",
              "      <th>cur_year_weighted_aw</th>\n",
              "      <th>last_year_weighted_aw</th>\n",
              "      <th>two_year_weighted_aw</th>\n",
              "      <th>three_year_weighted_aw</th>\n",
              "      <th>goals_scored</th>\n",
              "      <th>goal_difference</th>\n",
              "      <th>outcome</th>\n",
              "    </tr>\n",
              "  </thead>\n",
              "  <tbody>\n",
              "    <tr>\n",
              "      <th>17629</th>\n",
              "      <td>2018-06-28</td>\n",
              "      <td>england</td>\n",
              "      <td>england</td>\n",
              "      <td>belgium</td>\n",
              "      <td>0</td>\n",
              "      <td>1</td>\n",
              "      <td>FIFA World Cup</td>\n",
              "      <td>True</td>\n",
              "      <td>2018</td>\n",
              "      <td>6</td>\n",
              "      <td>12.0</td>\n",
              "      <td>1050.84</td>\n",
              "      <td>476.42</td>\n",
              "      <td>296.75</td>\n",
              "      <td>174.15</td>\n",
              "      <td>103.52</td>\n",
              "      <td>3.0</td>\n",
              "      <td>1298.32</td>\n",
              "      <td>629.98</td>\n",
              "      <td>322.82</td>\n",
              "      <td>158.94</td>\n",
              "      <td>186.58</td>\n",
              "      <td>1</td>\n",
              "      <td>-1</td>\n",
              "      <td>L</td>\n",
              "    </tr>\n",
              "    <tr>\n",
              "      <th>17630</th>\n",
              "      <td>2018-06-30</td>\n",
              "      <td>france</td>\n",
              "      <td>france</td>\n",
              "      <td>argentina</td>\n",
              "      <td>4</td>\n",
              "      <td>3</td>\n",
              "      <td>FIFA World Cup</td>\n",
              "      <td>True</td>\n",
              "      <td>2018</td>\n",
              "      <td>6</td>\n",
              "      <td>7.0</td>\n",
              "      <td>1198.13</td>\n",
              "      <td>520.12</td>\n",
              "      <td>428.38</td>\n",
              "      <td>118.09</td>\n",
              "      <td>131.54</td>\n",
              "      <td>5.0</td>\n",
              "      <td>1241.45</td>\n",
              "      <td>404.07</td>\n",
              "      <td>404.80</td>\n",
              "      <td>248.99</td>\n",
              "      <td>183.59</td>\n",
              "      <td>7</td>\n",
              "      <td>1</td>\n",
              "      <td>W</td>\n",
              "    </tr>\n",
              "    <tr>\n",
              "      <th>17631</th>\n",
              "      <td>2018-06-30</td>\n",
              "      <td>uruguay</td>\n",
              "      <td>uruguay</td>\n",
              "      <td>portugal</td>\n",
              "      <td>2</td>\n",
              "      <td>1</td>\n",
              "      <td>FIFA World Cup</td>\n",
              "      <td>True</td>\n",
              "      <td>2018</td>\n",
              "      <td>6</td>\n",
              "      <td>14.0</td>\n",
              "      <td>1018.41</td>\n",
              "      <td>486.28</td>\n",
              "      <td>243.84</td>\n",
              "      <td>168.44</td>\n",
              "      <td>119.85</td>\n",
              "      <td>4.0</td>\n",
              "      <td>1273.69</td>\n",
              "      <td>646.92</td>\n",
              "      <td>345.91</td>\n",
              "      <td>155.33</td>\n",
              "      <td>125.53</td>\n",
              "      <td>3</td>\n",
              "      <td>1</td>\n",
              "      <td>W</td>\n",
              "    </tr>\n",
              "  </tbody>\n",
              "</table>\n",
              "</div>"
            ],
            "text/plain": [
              "          date_x country_full home_team  ... goals_scored  goal_difference  outcome\n",
              "17629 2018-06-28      england   england  ...            1               -1        L\n",
              "17630 2018-06-30       france    france  ...            7                1        W\n",
              "17631 2018-06-30      uruguay   uruguay  ...            3                1        W\n",
              "\n",
              "[3 rows x 25 columns]"
            ]
          },
          "metadata": {
            "tags": []
          },
          "execution_count": 35
        }
      ]
    },
    {
      "cell_type": "markdown",
      "metadata": {
        "id": "rF2ABPsHUtbZ",
        "colab_type": "text"
      },
      "source": [
        "## 6. Exploratory Analysis"
      ]
    },
    {
      "cell_type": "code",
      "metadata": {
        "id": "5nnRToniXGDK",
        "colab_type": "code",
        "colab": {
          "base_uri": "https://localhost:8080/",
          "height": 304
        },
        "outputId": "bc78bf2d-641e-41ff-b99a-c1fb8dcbbefa"
      },
      "source": [
        "# Ploting the univariate summaries and recording our observations\n",
        "#Using seaborns countplot to visualise game outcomes, we find that there are more wins than draws and losses\n",
        "\n",
        "sns.set(style=\"whitegrid\")\n",
        "sns.countplot(fifa_rank['outcome'],data = fifa_rank)\n",
        "plt.xlabel(\"Match Outcome\",fontsize=13)\n",
        "plt.ylabel(\"Frequency\",fontsize=13)\n",
        "plt.title(\"Match Outcomes Frequency\",fontsize=18,color=\"green\")\n",
        "plt.show()"
      ],
      "execution_count": null,
      "outputs": [
        {
          "output_type": "display_data",
          "data": {
            "image/png": "[encoded data removed]",
            "text/plain": [
              "<Figure size 432x288 with 1 Axes>"
            ]
          },
          "metadata": {
            "tags": []
          }
        }
      ]
    },
    {
      "cell_type": "code",
      "metadata": {
        "id": "fdV6PvD5saTV",
        "colab_type": "code",
        "colab": {}
      },
      "source": [
        "#Grouping categorical columns into three categories using label encoder\n",
        "\n",
        "le = LabelEncoder() \n",
        "\n",
        "fifa_rank['outcome']= le.fit_transform(fifa_rank['outcome'])  # Ordered by 'D':0,'L':1,'W':2\n",
        "\n",
        "#Function for Categorising tournament_x\n",
        "\n",
        "def tournament_cat(tournament_x):\n",
        "    if (tournament_x == 'FIFA World Cup qualification') or (tournament_x == 'FIFA World Cup'):\n",
        "        return 'World_Cup'\n",
        "    if tournament_x == 'Friendly':\n",
        "        return 'Friendly'\n",
        "    else:\n",
        "        return 'Other'\n",
        "\n",
        "# Categorising tournament_x\n",
        "\n",
        "fifa_rank['tournament_x'] = fifa_rank['tournament_x'].apply(lambda x: tournament_cat(x))"
      ],
      "execution_count": null,
      "outputs": []
    },
    {
      "cell_type": "code",
      "metadata": {
        "id": "4ckZW2DSsR7v",
        "colab_type": "code",
        "colab": {
          "base_uri": "https://localhost:8080/",
          "height": 305
        },
        "outputId": "dff7cc59-802c-4586-ae5b-a053bf614ec7"
      },
      "source": [
        "sns.countplot(fifa_rank['tournament_x'],data = fifa_rank)\n",
        "plt.xlabel(\"Tournaments\",fontsize=13)\n",
        "plt.ylabel(\"Frequency\",fontsize=13)\n",
        "plt.title(\"Frequency of Tournaments\",fontsize=18,color=\"green\")\n",
        "plt.show()\n",
        "\n",
        "#Frendlies are the most played tournaments"
      ],
      "execution_count": null,
      "outputs": [
        {
          "output_type": "display_data",
          "data": {
            "image/png": "[encoded data removed]",
            "text/plain": [
              "<Figure size 432x288 with 1 Axes>"
            ]
          },
          "metadata": {
            "tags": []
          }
        }
      ]
    },
    {
      "cell_type": "code",
      "metadata": {
        "id": "CegKrlxDtZr9",
        "colab_type": "code",
        "colab": {
          "base_uri": "https://localhost:8080/",
          "height": 376
        },
        "outputId": "707858d0-4ac5-463d-8645-99af32de49f9"
      },
      "source": [
        "#Checking for Seasonality of games played by Month and Year\n",
        "plt.figure(figsize=(15,5))\n",
        "sns.lineplot(data=fifa_rank, x='month', y='outcome');\n",
        "plt.xlabel(\"Month\", fontsize=13)\n",
        "plt.ylabel(\"Games Played\", fontsize=13)\n",
        "plt.title(\"Monthly Seasonality for Games Played Annually\", fontsize=18)\n",
        "\n",
        "#Number of games played is highest in April"
      ],
      "execution_count": null,
      "outputs": [
        {
          "output_type": "execute_result",
          "data": {
            "text/plain": [
              "Text(0.5, 1.0, 'Monthly Seasonality for Games Played Annually')"
            ]
          },
          "metadata": {
            "tags": []
          },
          "execution_count": 39
        },
        {
          "output_type": "display_data",
          "data": {
            "image/png": "[encoded data removed]",
            "text/plain": [
              "<Figure size 1080x360 with 1 Axes>"
            ]
          },
          "metadata": {
            "tags": []
          }
        }
      ]
    },
    {
      "cell_type": "code",
      "metadata": {
        "id": "O1u2dopCu1_Z",
        "colab_type": "code",
        "colab": {
          "base_uri": "https://localhost:8080/",
          "height": 376
        },
        "outputId": "d36ba50e-3599-4967-9c59-be443b11aab8"
      },
      "source": [
        "#Checking for Seasonality of tournaments by Year\n",
        "\n",
        "plt.figure(figsize=(15,5))\n",
        "sns.lineplot(x=\"year\", y=\"month\", hue=\"tournament_x\", data=fifa_rank);\n",
        "plt.xlabel(\"Month\", fontsize=13)\n",
        "plt.ylabel(\"Games Played\", fontsize=13)\n",
        "plt.title(\"Seasonality for Tournaments Played Yearly\", fontsize=18)\n",
        "\n",
        "#Number of total teams and games played in world cup tournaments increased between 2002 and 2008 roughly \n",
        "#and its the most dominant tournament"
      ],
      "execution_count": null,
      "outputs": [
        {
          "output_type": "execute_result",
          "data": {
            "text/plain": [
              "Text(0.5, 1.0, 'Seasonality for Tournaments Played Yearly')"
            ]
          },
          "metadata": {
            "tags": []
          },
          "execution_count": 40
        },
        {
          "output_type": "display_data",
          "data": {
            "image/png": "[encoded data removed]",
            "text/plain": [
              "<Figure size 1080x360 with 1 Axes>"
            ]
          },
          "metadata": {
            "tags": []
          }
        }
      ]
    },
    {
      "cell_type": "code",
      "metadata": {
        "id": "g3k2cEBu_MXC",
        "colab_type": "code",
        "colab": {}
      },
      "source": [
        "#Checking for Seasonality of Outcomes by Year\n",
        "\n",
        "win = fifa_rank\n",
        "win['outcome']= le.fit_transform(win['outcome']) # Ordered Win:2, Lose:1, Draw:0"
      ],
      "execution_count": null,
      "outputs": []
    },
    {
      "cell_type": "code",
      "metadata": {
        "id": "7fsYGay0Af8d",
        "colab_type": "code",
        "colab": {
          "base_uri": "https://localhost:8080/",
          "height": 376
        },
        "outputId": "c9234ecc-b74b-464c-e04a-caf7eef92fad"
      },
      "source": [
        "plt.figure(figsize=(15,5))\n",
        "\n",
        "sns.lineplot(x=\"year\", y=\"month\", hue= 'outcome', data=fifa_rank);\n",
        "plt.xlabel(\"Month\", fontsize=13)\n",
        "plt.ylabel(\"Games Played\", fontsize=13)\n",
        "plt.title(\"Seasonality for Outcomes Yearly\", fontsize=18)\n",
        "\n",
        "#The winnings have been increasing slowly over the years (Dark Purple(2)) \n",
        "#meaning that goal differences between teams has reduced"
      ],
      "execution_count": null,
      "outputs": [
        {
          "output_type": "execute_result",
          "data": {
            "text/plain": [
              "Text(0.5, 1.0, 'Seasonality for Outcomes Yearly')"
            ]
          },
          "metadata": {
            "tags": []
          },
          "execution_count": 42
        },
        {
          "output_type": "display_data",
          "data": {
            "image/png": "[encoded data removed]",
            "text/plain": [
              "<Figure size 1080x360 with 1 Axes>"
            ]
          },
          "metadata": {
            "tags": []
          }
        }
      ]
    },
    {
      "cell_type": "code",
      "metadata": {
        "id": "k1CvjLC3CsTE",
        "colab_type": "code",
        "colab": {
          "base_uri": "https://localhost:8080/",
          "height": 307
        },
        "outputId": "401bf52c-01c9-4b00-d943-ac49581e64f7"
      },
      "source": [
        "fifa_rank.describe()"
      ],
      "execution_count": null,
      "outputs": [
        {
          "output_type": "execute_result",
          "data": {
            "text/html": [
              "<div>\n",
              "<style scoped>\n",
              "    .dataframe tbody tr th:only-of-type {\n",
              "        vertical-align: middle;\n",
              "    }\n",
              "\n",
              "    .dataframe tbody tr th {\n",
              "        vertical-align: top;\n",
              "    }\n",
              "\n",
              "    .dataframe thead th {\n",
              "        text-align: right;\n",
              "    }\n",
              "</style>\n",
              "<table border=\"1\" class=\"dataframe\">\n",
              "  <thead>\n",
              "    <tr style=\"text-align: right;\">\n",
              "      <th></th>\n",
              "      <th>home_score_x</th>\n",
              "      <th>away_score_x</th>\n",
              "      <th>tournament_x</th>\n",
              "      <th>neutral_x</th>\n",
              "      <th>year</th>\n",
              "      <th>month</th>\n",
              "      <th>rank_home</th>\n",
              "      <th>total_points_hm</th>\n",
              "      <th>cur_year_weighted_hm</th>\n",
              "      <th>last_year_weighted_hm</th>\n",
              "      <th>two_year_weighted_hm</th>\n",
              "      <th>three_year_weighted_hm</th>\n",
              "      <th>rank_away</th>\n",
              "      <th>total_points_aw</th>\n",
              "      <th>cur_year_weighted_aw</th>\n",
              "      <th>last_year_weighted_aw</th>\n",
              "      <th>two_year_weighted_aw</th>\n",
              "      <th>three_year_weighted_aw</th>\n",
              "      <th>goals_scored</th>\n",
              "      <th>goal_difference</th>\n",
              "      <th>outcome</th>\n",
              "    </tr>\n",
              "  </thead>\n",
              "  <tbody>\n",
              "    <tr>\n",
              "      <th>count</th>\n",
              "      <td>17632.000000</td>\n",
              "      <td>17632.000000</td>\n",
              "      <td>17632.000000</td>\n",
              "      <td>17632.000000</td>\n",
              "      <td>17632.000000</td>\n",
              "      <td>17632.000000</td>\n",
              "      <td>17632.000000</td>\n",
              "      <td>17632.000000</td>\n",
              "      <td>17632.000000</td>\n",
              "      <td>17632.000000</td>\n",
              "      <td>17632.000000</td>\n",
              "      <td>17632.000000</td>\n",
              "      <td>17632.000000</td>\n",
              "      <td>17632.000000</td>\n",
              "      <td>17632.000000</td>\n",
              "      <td>17632.000000</td>\n",
              "      <td>17632.000000</td>\n",
              "      <td>17632.000000</td>\n",
              "      <td>17632.000000</td>\n",
              "      <td>17632.000000</td>\n",
              "      <td>17632.000000</td>\n",
              "    </tr>\n",
              "    <tr>\n",
              "      <th>mean</th>\n",
              "      <td>1.607078</td>\n",
              "      <td>1.060628</td>\n",
              "      <td>0.844374</td>\n",
              "      <td>0.232475</td>\n",
              "      <td>2006.367287</td>\n",
              "      <td>6.853675</td>\n",
              "      <td>76.895985</td>\n",
              "      <td>161.125915</td>\n",
              "      <td>81.663881</td>\n",
              "      <td>40.301297</td>\n",
              "      <td>23.193962</td>\n",
              "      <td>15.967020</td>\n",
              "      <td>80.069079</td>\n",
              "      <td>154.458752</td>\n",
              "      <td>77.984171</td>\n",
              "      <td>38.755138</td>\n",
              "      <td>22.513456</td>\n",
              "      <td>15.206239</td>\n",
              "      <td>2.667706</td>\n",
              "      <td>0.546450</td>\n",
              "      <td>1.244158</td>\n",
              "    </tr>\n",
              "    <tr>\n",
              "      <th>std</th>\n",
              "      <td>1.614934</td>\n",
              "      <td>1.235297</td>\n",
              "      <td>0.777825</td>\n",
              "      <td>0.422422</td>\n",
              "      <td>6.806711</td>\n",
              "      <td>3.287506</td>\n",
              "      <td>50.794666</td>\n",
              "      <td>309.811354</td>\n",
              "      <td>162.743330</td>\n",
              "      <td>82.533563</td>\n",
              "      <td>47.568487</td>\n",
              "      <td>32.683341</td>\n",
              "      <td>52.299603</td>\n",
              "      <td>299.189117</td>\n",
              "      <td>157.037759</td>\n",
              "      <td>79.335665</td>\n",
              "      <td>46.842160</td>\n",
              "      <td>31.289771</td>\n",
              "      <td>1.868396</td>\n",
              "      <td>2.185644</td>\n",
              "      <td>0.816563</td>\n",
              "    </tr>\n",
              "    <tr>\n",
              "      <th>min</th>\n",
              "      <td>0.000000</td>\n",
              "      <td>0.000000</td>\n",
              "      <td>0.000000</td>\n",
              "      <td>0.000000</td>\n",
              "      <td>1993.000000</td>\n",
              "      <td>1.000000</td>\n",
              "      <td>1.000000</td>\n",
              "      <td>0.000000</td>\n",
              "      <td>0.000000</td>\n",
              "      <td>0.000000</td>\n",
              "      <td>0.000000</td>\n",
              "      <td>0.000000</td>\n",
              "      <td>1.000000</td>\n",
              "      <td>0.000000</td>\n",
              "      <td>0.000000</td>\n",
              "      <td>0.000000</td>\n",
              "      <td>0.000000</td>\n",
              "      <td>0.000000</td>\n",
              "      <td>0.000000</td>\n",
              "      <td>-15.000000</td>\n",
              "      <td>0.000000</td>\n",
              "    </tr>\n",
              "    <tr>\n",
              "      <th>25%</th>\n",
              "      <td>0.000000</td>\n",
              "      <td>0.000000</td>\n",
              "      <td>0.000000</td>\n",
              "      <td>0.000000</td>\n",
              "      <td>2001.000000</td>\n",
              "      <td>4.000000</td>\n",
              "      <td>34.000000</td>\n",
              "      <td>0.000000</td>\n",
              "      <td>0.000000</td>\n",
              "      <td>0.000000</td>\n",
              "      <td>0.000000</td>\n",
              "      <td>0.000000</td>\n",
              "      <td>36.000000</td>\n",
              "      <td>0.000000</td>\n",
              "      <td>0.000000</td>\n",
              "      <td>0.000000</td>\n",
              "      <td>0.000000</td>\n",
              "      <td>0.000000</td>\n",
              "      <td>1.000000</td>\n",
              "      <td>-1.000000</td>\n",
              "      <td>1.000000</td>\n",
              "    </tr>\n",
              "    <tr>\n",
              "      <th>50%</th>\n",
              "      <td>1.000000</td>\n",
              "      <td>1.000000</td>\n",
              "      <td>1.000000</td>\n",
              "      <td>0.000000</td>\n",
              "      <td>2007.000000</td>\n",
              "      <td>7.000000</td>\n",
              "      <td>72.000000</td>\n",
              "      <td>0.000000</td>\n",
              "      <td>0.000000</td>\n",
              "      <td>0.000000</td>\n",
              "      <td>0.000000</td>\n",
              "      <td>0.000000</td>\n",
              "      <td>74.000000</td>\n",
              "      <td>0.000000</td>\n",
              "      <td>0.000000</td>\n",
              "      <td>0.000000</td>\n",
              "      <td>0.000000</td>\n",
              "      <td>0.000000</td>\n",
              "      <td>2.000000</td>\n",
              "      <td>0.000000</td>\n",
              "      <td>1.000000</td>\n",
              "    </tr>\n",
              "    <tr>\n",
              "      <th>75%</th>\n",
              "      <td>2.000000</td>\n",
              "      <td>2.000000</td>\n",
              "      <td>1.000000</td>\n",
              "      <td>0.000000</td>\n",
              "      <td>2012.000000</td>\n",
              "      <td>10.000000</td>\n",
              "      <td>112.000000</td>\n",
              "      <td>212.532500</td>\n",
              "      <td>95.662500</td>\n",
              "      <td>43.395000</td>\n",
              "      <td>22.190000</td>\n",
              "      <td>16.270000</td>\n",
              "      <td>117.000000</td>\n",
              "      <td>193.635000</td>\n",
              "      <td>85.000000</td>\n",
              "      <td>40.260000</td>\n",
              "      <td>20.210000</td>\n",
              "      <td>14.822500</td>\n",
              "      <td>4.000000</td>\n",
              "      <td>2.000000</td>\n",
              "      <td>2.000000</td>\n",
              "    </tr>\n",
              "    <tr>\n",
              "      <th>max</th>\n",
              "      <td>31.000000</td>\n",
              "      <td>15.000000</td>\n",
              "      <td>2.000000</td>\n",
              "      <td>1.000000</td>\n",
              "      <td>2018.000000</td>\n",
              "      <td>12.000000</td>\n",
              "      <td>209.000000</td>\n",
              "      <td>1770.060000</td>\n",
              "      <td>1158.660000</td>\n",
              "      <td>584.790000</td>\n",
              "      <td>345.940000</td>\n",
              "      <td>240.150000</td>\n",
              "      <td>209.000000</td>\n",
              "      <td>1770.060000</td>\n",
              "      <td>1126.040000</td>\n",
              "      <td>584.790000</td>\n",
              "      <td>347.910000</td>\n",
              "      <td>240.150000</td>\n",
              "      <td>31.000000</td>\n",
              "      <td>31.000000</td>\n",
              "      <td>2.000000</td>\n",
              "    </tr>\n",
              "  </tbody>\n",
              "</table>\n",
              "</div>"
            ],
            "text/plain": [
              "       home_score_x  away_score_x  ...  goal_difference       outcome\n",
              "count  17632.000000  17632.000000  ...     17632.000000  17632.000000\n",
              "mean       1.607078      1.060628  ...         0.546450      1.244158\n",
              "std        1.614934      1.235297  ...         2.185644      0.816563\n",
              "min        0.000000      0.000000  ...       -15.000000      0.000000\n",
              "25%        0.000000      0.000000  ...        -1.000000      1.000000\n",
              "50%        1.000000      1.000000  ...         0.000000      1.000000\n",
              "75%        2.000000      2.000000  ...         2.000000      2.000000\n",
              "max       31.000000     15.000000  ...        31.000000      2.000000\n",
              "\n",
              "[8 rows x 21 columns]"
            ]
          },
          "metadata": {
            "tags": []
          },
          "execution_count": 60
        }
      ]
    },
    {
      "cell_type": "markdown",
      "metadata": {
        "id": "vTbdjSrhVIiT",
        "colab_type": "text"
      },
      "source": [
        "## 7. Implementing the Solution"
      ]
    },
    {
      "cell_type": "markdown",
      "metadata": {
        "id": "FeZ3VE7ABxdi",
        "colab_type": "text"
      },
      "source": [
        "#### Check of multicollinearity"
      ]
    },
    {
      "cell_type": "code",
      "metadata": {
        "id": "Oqwj7sgRKG5K",
        "colab_type": "code",
        "colab": {}
      },
      "source": [
        "#Encoding neutral and tournament columns\n",
        "\n",
        "#Applying label encoder on tournament_x\n",
        "fifa_rank['tournament_x']= le.fit_transform(fifa_rank['tournament_x'])\n",
        "fifa_rank['neutral_x']= le.fit_transform(fifa_rank['neutral_x'])\n"
      ],
      "execution_count": null,
      "outputs": []
    },
    {
      "cell_type": "code",
      "metadata": {
        "id": "PJLZaRzJXJ3w",
        "colab_type": "code",
        "colab": {
          "base_uri": "https://localhost:8080/",
          "height": 531
        },
        "outputId": "0ab3670f-f924-4946-f5e1-42f96db84c12"
      },
      "source": [
        "#Displaying Correlations\n",
        "\n",
        "fifa_rank_ = fifa_rank[['home_score_x','away_score_x','rank_home','rank_away','tournament_x','neutral_x','total_points_hm','total_points_aw']]\n",
        "\n",
        "fifa_rank_corr = fifa_rank_.corr(method='pearson')\n",
        "\n",
        "plt.figure(figsize = (12,7)) \n",
        "\n",
        "#Displaying heatmap \n",
        "sns.heatmap(fifa_rank_corr, \n",
        "            xticklabels=fifa_rank_corr.columns,\n",
        "            yticklabels=fifa_rank_corr.columns,\n",
        "            cmap='RdBu_r',\n",
        "            annot=True,\n",
        "            linewidth=0.8)"
      ],
      "execution_count": null,
      "outputs": [
        {
          "output_type": "execute_result",
          "data": {
            "text/plain": [
              "<matplotlib.axes._subplots.AxesSubplot at 0x7fe0a3b92ac8>"
            ]
          },
          "metadata": {
            "tags": []
          },
          "execution_count": 45
        },
        {
          "output_type": "display_data",
          "data": {
            "image/png": "[encoded data removed]",
            "text/plain": [
              "<Figure size 864x504 with 2 Axes>"
            ]
          },
          "metadata": {
            "tags": []
          }
        }
      ]
    },
    {
      "cell_type": "code",
      "metadata": {
        "id": "uRxu1EQMK4ON",
        "colab_type": "code",
        "colab": {
          "base_uri": "https://localhost:8080/",
          "height": 287
        },
        "outputId": "62c6849d-7730-4f01-cc1b-5781cec2ef5c"
      },
      "source": [
        "##Displaying inverse of Correlations which gives the Variance Inflation Factor\n",
        "\n",
        "vif_factor = pd.DataFrame(np.linalg.inv(fifa_rank_corr.values), index = fifa_rank_corr.index, columns = fifa_rank_corr.columns)\n",
        "vif_factor\n",
        "#\n",
        "#Interpreting VIF Factors\n",
        "#1 = not correlated.\n",
        "#1 & 5 = moderately correlated.\n",
        "#> 5 = highly correlated."
      ],
      "execution_count": null,
      "outputs": [
        {
          "output_type": "execute_result",
          "data": {
            "text/html": [
              "<div>\n",
              "<style scoped>\n",
              "    .dataframe tbody tr th:only-of-type {\n",
              "        vertical-align: middle;\n",
              "    }\n",
              "\n",
              "    .dataframe tbody tr th {\n",
              "        vertical-align: top;\n",
              "    }\n",
              "\n",
              "    .dataframe thead th {\n",
              "        text-align: right;\n",
              "    }\n",
              "</style>\n",
              "<table border=\"1\" class=\"dataframe\">\n",
              "  <thead>\n",
              "    <tr style=\"text-align: right;\">\n",
              "      <th></th>\n",
              "      <th>home_score_x</th>\n",
              "      <th>away_score_x</th>\n",
              "      <th>rank_home</th>\n",
              "      <th>rank_away</th>\n",
              "      <th>tournament_x</th>\n",
              "      <th>neutral_x</th>\n",
              "      <th>total_points_hm</th>\n",
              "      <th>total_points_aw</th>\n",
              "    </tr>\n",
              "  </thead>\n",
              "  <tbody>\n",
              "    <tr>\n",
              "      <th>home_score_x</th>\n",
              "      <td>1.267928</td>\n",
              "      <td>-0.015176</td>\n",
              "      <td>0.483596</td>\n",
              "      <td>-0.635872</td>\n",
              "      <td>-0.084755</td>\n",
              "      <td>0.063514</td>\n",
              "      <td>0.043648</td>\n",
              "      <td>-0.023336</td>\n",
              "    </tr>\n",
              "    <tr>\n",
              "      <th>away_score_x</th>\n",
              "      <td>-0.015176</td>\n",
              "      <td>1.195388</td>\n",
              "      <td>-0.460645</td>\n",
              "      <td>0.439125</td>\n",
              "      <td>-0.038424</td>\n",
              "      <td>-0.125725</td>\n",
              "      <td>0.030893</td>\n",
              "      <td>-0.042318</td>\n",
              "    </tr>\n",
              "    <tr>\n",
              "      <th>rank_home</th>\n",
              "      <td>0.483596</td>\n",
              "      <td>-0.460645</td>\n",
              "      <td>1.992023</td>\n",
              "      <td>-1.313899</td>\n",
              "      <td>-0.026739</td>\n",
              "      <td>0.046061</td>\n",
              "      <td>1.114327</td>\n",
              "      <td>-0.928868</td>\n",
              "    </tr>\n",
              "    <tr>\n",
              "      <th>rank_away</th>\n",
              "      <td>-0.635872</td>\n",
              "      <td>0.439125</td>\n",
              "      <td>-1.313899</td>\n",
              "      <td>2.109802</td>\n",
              "      <td>-0.006015</td>\n",
              "      <td>-0.112780</td>\n",
              "      <td>-0.951033</td>\n",
              "      <td>1.104650</td>\n",
              "    </tr>\n",
              "    <tr>\n",
              "      <th>tournament_x</th>\n",
              "      <td>-0.084755</td>\n",
              "      <td>-0.038424</td>\n",
              "      <td>-0.026739</td>\n",
              "      <td>-0.006015</td>\n",
              "      <td>1.012376</td>\n",
              "      <td>0.040754</td>\n",
              "      <td>0.005094</td>\n",
              "      <td>-0.066317</td>\n",
              "    </tr>\n",
              "    <tr>\n",
              "      <th>neutral_x</th>\n",
              "      <td>0.063514</td>\n",
              "      <td>-0.125725</td>\n",
              "      <td>0.046061</td>\n",
              "      <td>-0.112780</td>\n",
              "      <td>0.040754</td>\n",
              "      <td>1.022147</td>\n",
              "      <td>-0.050291</td>\n",
              "      <td>-0.004701</td>\n",
              "    </tr>\n",
              "    <tr>\n",
              "      <th>total_points_hm</th>\n",
              "      <td>0.043648</td>\n",
              "      <td>0.030893</td>\n",
              "      <td>1.114327</td>\n",
              "      <td>-0.951033</td>\n",
              "      <td>0.005094</td>\n",
              "      <td>-0.050291</td>\n",
              "      <td>3.607103</td>\n",
              "      <td>-3.006921</td>\n",
              "    </tr>\n",
              "    <tr>\n",
              "      <th>total_points_aw</th>\n",
              "      <td>-0.023336</td>\n",
              "      <td>-0.042318</td>\n",
              "      <td>-0.928868</td>\n",
              "      <td>1.104650</td>\n",
              "      <td>-0.066317</td>\n",
              "      <td>-0.004701</td>\n",
              "      <td>-3.006921</td>\n",
              "      <td>3.603574</td>\n",
              "    </tr>\n",
              "  </tbody>\n",
              "</table>\n",
              "</div>"
            ],
            "text/plain": [
              "                 home_score_x  away_score_x  ...  total_points_hm  total_points_aw\n",
              "home_score_x         1.267928     -0.015176  ...         0.043648        -0.023336\n",
              "away_score_x        -0.015176      1.195388  ...         0.030893        -0.042318\n",
              "rank_home            0.483596     -0.460645  ...         1.114327        -0.928868\n",
              "rank_away           -0.635872      0.439125  ...        -0.951033         1.104650\n",
              "tournament_x        -0.084755     -0.038424  ...         0.005094        -0.066317\n",
              "neutral_x            0.063514     -0.125725  ...        -0.050291        -0.004701\n",
              "total_points_hm      0.043648      0.030893  ...         3.607103        -3.006921\n",
              "total_points_aw     -0.023336     -0.042318  ...        -3.006921         3.603574\n",
              "\n",
              "[8 rows x 8 columns]"
            ]
          },
          "metadata": {
            "tags": []
          },
          "execution_count": 46
        }
      ]
    },
    {
      "cell_type": "markdown",
      "metadata": {
        "id": "aU0qMZtJNG8i",
        "colab_type": "text"
      },
      "source": [
        "The above Variance Inflation Factors are very close to 1 and definitely less than 5. This means that theres no multicollinearity or its very negligible."
      ]
    },
    {
      "cell_type": "markdown",
      "metadata": {
        "id": "tQzrWbJiOQt7",
        "colab_type": "text"
      },
      "source": [
        "#### Polynomial Model"
      ]
    },
    {
      "cell_type": "markdown",
      "metadata": {
        "id": "Ou3JpytvP2J7",
        "colab_type": "text"
      },
      "source": [
        "###### Model 1 : Predicting how many goals the home team scores"
      ]
    },
    {
      "cell_type": "code",
      "metadata": {
        "id": "R9KMS-JRItT6",
        "colab_type": "code",
        "colab": {
          "base_uri": "https://localhost:8080/",
          "height": 107
        },
        "outputId": "e17c692b-c241-4f6b-c854-88f0964e00c2"
      },
      "source": [
        "fifa_rank1 = fifa_rank[['home_team','away_team','home_score_x','away_score_x','rank_home','rank_away','tournament_x','neutral_x','total_points_hm','total_points_aw']]\n",
        "fifa_rank1.head(2)"
      ],
      "execution_count": null,
      "outputs": [
        {
          "output_type": "execute_result",
          "data": {
            "text/html": [
              "<div>\n",
              "<style scoped>\n",
              "    .dataframe tbody tr th:only-of-type {\n",
              "        vertical-align: middle;\n",
              "    }\n",
              "\n",
              "    .dataframe tbody tr th {\n",
              "        vertical-align: top;\n",
              "    }\n",
              "\n",
              "    .dataframe thead th {\n",
              "        text-align: right;\n",
              "    }\n",
              "</style>\n",
              "<table border=\"1\" class=\"dataframe\">\n",
              "  <thead>\n",
              "    <tr style=\"text-align: right;\">\n",
              "      <th></th>\n",
              "      <th>home_team</th>\n",
              "      <th>away_team</th>\n",
              "      <th>home_score_x</th>\n",
              "      <th>away_score_x</th>\n",
              "      <th>rank_home</th>\n",
              "      <th>rank_away</th>\n",
              "      <th>tournament_x</th>\n",
              "      <th>neutral_x</th>\n",
              "      <th>total_points_hm</th>\n",
              "      <th>total_points_aw</th>\n",
              "    </tr>\n",
              "  </thead>\n",
              "  <tbody>\n",
              "    <tr>\n",
              "      <th>0</th>\n",
              "      <td>colombia</td>\n",
              "      <td>paraguay</td>\n",
              "      <td>0</td>\n",
              "      <td>0</td>\n",
              "      <td>19.0</td>\n",
              "      <td>67.0</td>\n",
              "      <td>2</td>\n",
              "      <td>0</td>\n",
              "      <td>0.0</td>\n",
              "      <td>0.0</td>\n",
              "    </tr>\n",
              "    <tr>\n",
              "      <th>1</th>\n",
              "      <td>peru</td>\n",
              "      <td>argentina</td>\n",
              "      <td>0</td>\n",
              "      <td>1</td>\n",
              "      <td>70.0</td>\n",
              "      <td>5.0</td>\n",
              "      <td>2</td>\n",
              "      <td>0</td>\n",
              "      <td>0.0</td>\n",
              "      <td>0.0</td>\n",
              "    </tr>\n",
              "  </tbody>\n",
              "</table>\n",
              "</div>"
            ],
            "text/plain": [
              "  home_team  away_team  ...  total_points_hm  total_points_aw\n",
              "0  colombia   paraguay  ...              0.0              0.0\n",
              "1      peru  argentina  ...              0.0              0.0\n",
              "\n",
              "[2 rows x 10 columns]"
            ]
          },
          "metadata": {
            "tags": []
          },
          "execution_count": 47
        }
      ]
    },
    {
      "cell_type": "code",
      "metadata": {
        "id": "Ze2l2d1WPplD",
        "colab_type": "code",
        "colab": {}
      },
      "source": [
        "#Importing necessary libraries for modelling\n",
        "\n",
        "from sklearn import metrics\n",
        "from sklearn.model_selection import train_test_split\n",
        "from sklearn.linear_model import LinearRegression\n",
        "from sklearn.preprocessing import StandardScaler, PolynomialFeatures\n",
        "from sklearn.linear_model import LogisticRegression\n",
        "from sklearn.metrics import mean_squared_error, accuracy_score\n",
        "from sklearn.model_selection import GridSearchCV, KFold, cross_val_score\n",
        "import scipy as sc\n",
        "from sklearn.tree import DecisionTreeClassifier\n",
        "from scipy.stats import randint as sp_randint\n",
        "from sklearn.ensemble import RandomForestClassifier\n",
        "from sklearn.naive_bayes import GaussianNB\n",
        "from sklearn.tree import DecisionTreeClassifier\n",
        "from sklearn.model_selection import RandomizedSearchCV\n",
        "\n",
        "#Get all columns except home_score_x\n",
        "X = fifa_rank[['home_team','away_team','away_score_x','rank_home','rank_away','tournament_x','neutral_x']]\n",
        "y = y = fifa_rank['home_score_x'].values\n",
        "\n",
        "#Encoding features\n",
        "X = pd.get_dummies(X, drop_first=True)\n"
      ],
      "execution_count": null,
      "outputs": []
    },
    {
      "cell_type": "code",
      "metadata": {
        "id": "9T0pBDMWUAe9",
        "colab_type": "code",
        "colab": {}
      },
      "source": [
        "#Splitting the dataset and using 80% for training\n",
        "\n",
        "X_train, X_test, y_train, y_test = train_test_split(X, y, test_size=0.2, random_state=0)\n",
        "\n",
        "#Scaling our data because total points has large figures\n",
        "scaler = StandardScaler()\n",
        "X_train = scaler.fit_transform(X_train)\n",
        "X_test = scaler.transform(X_test)"
      ],
      "execution_count": null,
      "outputs": []
    },
    {
      "cell_type": "code",
      "metadata": {
        "id": "BO8QHhNfXkg2",
        "colab_type": "code",
        "colab": {}
      },
      "source": [
        "#Fitting polynomial features\n",
        "#Using more than 1 degree crashes the notebook for this dataset\n",
        "\n",
        "poly = PolynomialFeatures(degree = 1)\n",
        "X_train = poly.fit_transform(X_train)\n",
        "X_test = poly.fit_transform(X_test)"
      ],
      "execution_count": null,
      "outputs": []
    },
    {
      "cell_type": "code",
      "metadata": {
        "id": "wEt_tQfKZoyx",
        "colab_type": "code",
        "colab": {
          "base_uri": "https://localhost:8080/",
          "height": 34
        },
        "outputId": "1ca2bb81-8d9d-4cd0-a991-fcc4c7c92e91"
      },
      "source": [
        "# Training our model\n",
        "\n",
        "regressor = LinearRegression()\n",
        "regressor.fit(X_train, y_train)"
      ],
      "execution_count": null,
      "outputs": [
        {
          "output_type": "execute_result",
          "data": {
            "text/plain": [
              "LinearRegression(copy_X=True, fit_intercept=True, n_jobs=None, normalize=False)"
            ]
          },
          "metadata": {
            "tags": []
          },
          "execution_count": 58
        }
      ]
    },
    {
      "cell_type": "code",
      "metadata": {
        "id": "mAKANRIXZvEI",
        "colab_type": "code",
        "colab": {
          "base_uri": "https://localhost:8080/",
          "height": 34
        },
        "outputId": "61b4b74b-6183-4ef8-9eec-9130d03da99d"
      },
      "source": [
        "#Predictions and Accuracy\n",
        "\n",
        "# Making predictions\n",
        "\n",
        "y_pred = regressor.predict(X_test)\n",
        "\n",
        "# Measuring the accuracy of the model using RMSE\n",
        "\n",
        "print(np.sqrt(mean_squared_error(y_test, y_pred)))"
      ],
      "execution_count": null,
      "outputs": [
        {
          "output_type": "stream",
          "text": [
            "1.2880259357653916\n"
          ],
          "name": "stdout"
        }
      ]
    },
    {
      "cell_type": "markdown",
      "metadata": {
        "id": "ApGej_PbbGuc",
        "colab_type": "text"
      },
      "source": [
        "Generally, we should aim to get a lower RMSE score to be more accurate.Since mean of home score is 1.6, we should aim to get less than 10% of 1.6 for the model to perfom more accurately."
      ]
    },
    {
      "cell_type": "markdown",
      "metadata": {
        "id": "tT7M7h7Ubr-K",
        "colab_type": "text"
      },
      "source": [
        "###### Creating residual plots \n",
        "and assessing Heteroskedasticity"
      ]
    },
    {
      "cell_type": "code",
      "metadata": {
        "id": "0KAf9wNcdYNQ",
        "colab_type": "code",
        "colab": {
          "base_uri": "https://localhost:8080/",
          "height": 301
        },
        "outputId": "c2054cce-63d1-42c1-88ae-e49dd2189ee0"
      },
      "source": [
        "#Getting residuals\n",
        "res = np.subtract(y_pred, y_test)\n",
        "\n",
        "# Plotting residuals\n",
        "\n",
        "plt.scatter(y_pred, res, color='red')\n",
        "plt.title('Home Score Residuals')\n",
        "plt.ylabel('Residuals')\n",
        "plt.xlabel('Values')\n",
        "plt.axhline(y= res.mean(), color='blue', linewidth=1)\n",
        "plt.show()"
      ],
      "execution_count": null,
      "outputs": [
        {
          "output_type": "display_data",
          "data": {
            "image/png": "[encoded data removed]",
            "text/plain": [
              "<Figure size 432x288 with 1 Axes>"
            ]
          },
          "metadata": {
            "tags": []
          }
        }
      ]
    },
    {
      "cell_type": "markdown",
      "metadata": {
        "id": "7h9LL4lalK1q",
        "colab_type": "text"
      },
      "source": [
        "The residuals are not centred around the mean/normally distributed indicating the model is not accurate"
      ]
    },
    {
      "cell_type": "code",
      "metadata": {
        "id": "PYwGrriLeX80",
        "colab_type": "code",
        "colab": {
          "base_uri": "https://localhost:8080/",
          "height": 34
        },
        "outputId": "920333ab-b102-4fcc-d0b5-ca466772ce24"
      },
      "source": [
        "# Assessing Heteroskedasticity using barlett's test\n",
        "\n",
        "test_result, p_value = sc.stats.bartlett(y_pred, res)\n",
        "\n",
        "print(\"P-Value is ;\",p_value )"
      ],
      "execution_count": null,
      "outputs": [
        {
          "output_type": "stream",
          "text": [
            "P-Value is ; 4.3046925963184294e-67\n"
          ],
          "name": "stdout"
        }
      ]
    },
    {
      "cell_type": "markdown",
      "metadata": {
        "id": "IxNRgIjPjEoa",
        "colab_type": "text"
      },
      "source": [
        "The p value is less than 0.05 indicating the variances are not equal and the model is performing poorly."
      ]
    },
    {
      "cell_type": "markdown",
      "metadata": {
        "id": "Zij5y0GrjZEs",
        "colab_type": "text"
      },
      "source": [
        "###### Model 2 : Predicting how many goals the away team scores"
      ]
    },
    {
      "cell_type": "code",
      "metadata": {
        "id": "CxjiDVYnjitg",
        "colab_type": "code",
        "colab": {}
      },
      "source": [
        "#Get all columns except away_score_x\n",
        "X = fifa_rank[['home_team','away_team','home_score_x','rank_home','rank_away','tournament_x','neutral_x']]\n",
        "y = y = fifa_rank['away_score_x'].values\n",
        "\n",
        "#Encoding features\n",
        "X = pd.get_dummies(X, drop_first=True)\n",
        "\n",
        "#Splitting the dataset and using 80% for training\n",
        "\n",
        "X_train, X_test, y_train, y_test = train_test_split(X, y, test_size=0.2, random_state=0)\n",
        "\n",
        "#Scaling our data because total points has large figures\n",
        "scaler = StandardScaler()\n",
        "X_train = scaler.fit_transform(X_train)\n",
        "X_test = scaler.transform(X_test)\n",
        "\n",
        "#Fitting polynomial features\n",
        "#Using more than 1 degree crashes the notebook for this dataset\n",
        "\n",
        "poly = PolynomialFeatures(degree = 1)\n",
        "X_train = poly.fit_transform(X_train)\n",
        "X_test = poly.fit_transform(X_test)"
      ],
      "execution_count": null,
      "outputs": []
    },
    {
      "cell_type": "code",
      "metadata": {
        "id": "HUGvOiXhj_12",
        "colab_type": "code",
        "colab": {
          "base_uri": "https://localhost:8080/",
          "height": 34
        },
        "outputId": "abe63b64-a632-42de-80a9-f8a1d07452cd"
      },
      "source": [
        "# Training our model\n",
        "\n",
        "regressor = LinearRegression()\n",
        "regressor.fit(X_train, y_train)\n",
        "\n",
        "#Predictions and Accuracy\n",
        "\n",
        "# Making predictions\n",
        "\n",
        "y_pred = regressor.predict(X_test)\n",
        "\n",
        "# Measuring the accuracy of the model using RMSE\n",
        "\n",
        "print(np.sqrt(mean_squared_error(y_test, y_pred)))"
      ],
      "execution_count": null,
      "outputs": [
        {
          "output_type": "stream",
          "text": [
            "1.0968689893037051\n"
          ],
          "name": "stdout"
        }
      ]
    },
    {
      "cell_type": "markdown",
      "metadata": {
        "colab_type": "text",
        "id": "IEtUNsLIkLod"
      },
      "source": [
        "This RMSE is slightly lower than the previous model but still performing poorly since mean of away score is 1.06, we should aim to get less than 10% of 1.06 for the model to perfom more accurately."
      ]
    },
    {
      "cell_type": "code",
      "metadata": {
        "id": "2RFVyLDfkrsE",
        "colab_type": "code",
        "colab": {
          "base_uri": "https://localhost:8080/",
          "height": 301
        },
        "outputId": "3347d6fc-bc8b-434d-d274-de4b645ee07a"
      },
      "source": [
        "#Plotting residuals\n",
        "\n",
        "res = y_pred - y_test\n",
        "\n",
        "# Plotting residuals\n",
        "\n",
        "plt.scatter(y_pred, res, color='red')\n",
        "plt.title('Away Score Residuals')\n",
        "plt.ylabel('Residuals')\n",
        "plt.xlabel('Values')\n",
        "plt.axhline(y= res.mean(), color='blue', linewidth=1)\n",
        "plt.show()"
      ],
      "execution_count": null,
      "outputs": [
        {
          "output_type": "display_data",
          "data": {
            "image/png": "[encoded data removed]",
            "text/plain": [
              "<Figure size 432x288 with 1 Axes>"
            ]
          },
          "metadata": {
            "tags": []
          }
        }
      ]
    },
    {
      "cell_type": "markdown",
      "metadata": {
        "id": "47JdgXdqlEag",
        "colab_type": "text"
      },
      "source": [
        "These residuals are also not centred around the mean/normally distributed indicating the model is not accurate"
      ]
    },
    {
      "cell_type": "markdown",
      "metadata": {
        "id": "Vnax5VgPlocV",
        "colab_type": "text"
      },
      "source": [
        "#### Logistic Regression"
      ]
    },
    {
      "cell_type": "code",
      "metadata": {
        "id": "q2pLYxYCnm_-",
        "colab_type": "code",
        "colab": {
          "base_uri": "https://localhost:8080/",
          "height": 176
        },
        "outputId": "adf79cfd-a0c4-4c71-e2ff-2bc15bbb70f2"
      },
      "source": [
        "#Get all columns except outcome \n",
        "X = fifa_rank[['home_team','away_team','away_score_x','home_score_x','rank_home','rank_away','tournament_x','neutral_x',]]\n",
        "y = y = fifa_rank['outcome'].values\n",
        "\n",
        "#Encoding features\n",
        "X = pd.get_dummies(X, drop_first=True)\n",
        "\n",
        "#Splitting the data and using 80% as training set\n",
        "\n",
        "X_train, X_test, y_train, y_test = train_test_split(X, y, test_size = 0.20, random_state = 0)\n",
        "\n",
        "#Model fitting\n",
        "regression = LogisticRegression()\n",
        "regression.fit(X_train,y_train)\n",
        "\n",
        "#Predicting the outcome\n",
        "\n",
        "y_pred = regression.predict(X_test)\n",
        "\n",
        "#Getting Model Accuracy\n",
        "\n",
        "print(\"The Model's Accuracy is : \", accuracy_score(y_test, y_pred))"
      ],
      "execution_count": null,
      "outputs": [
        {
          "output_type": "stream",
          "text": [
            "The Model's Accuracy is :  1.0\n"
          ],
          "name": "stdout"
        },
        {
          "output_type": "stream",
          "text": [
            "/usr/local/lib/python3.6/dist-packages/sklearn/linear_model/_logistic.py:940: ConvergenceWarning: lbfgs failed to converge (status=1):\n",
            "STOP: TOTAL NO. of ITERATIONS REACHED LIMIT.\n",
            "\n",
            "Increase the number of iterations (max_iter) or scale the data as shown in:\n",
            "    https://scikit-learn.org/stable/modules/preprocessing.html\n",
            "Please also refer to the documentation for alternative solver options:\n",
            "    https://scikit-learn.org/stable/modules/linear_model.html#logistic-regression\n",
            "  extra_warning_msg=_LOGISTIC_SOLVER_CONVERGENCE_MSG)\n"
          ],
          "name": "stderr"
        }
      ]
    },
    {
      "cell_type": "markdown",
      "metadata": {
        "id": "G6Hi-ymyw1Ih",
        "colab_type": "text"
      },
      "source": [
        "Logistic Regression performs better though the accuracy score is too high at 100% which indicates overfitting. This means the model cannot be applied to different datasets accurately. "
      ]
    },
    {
      "cell_type": "markdown",
      "metadata": {
        "id": "lQ2G4ZPDVOXE",
        "colab_type": "text"
      },
      "source": [
        "## 8. Challenging the solution"
      ]
    },
    {
      "cell_type": "markdown",
      "metadata": {
        "id": "jWVGKGuiYMWg",
        "colab_type": "text"
      },
      "source": [
        "> The easy solution is nice because it is, well, easy, but we never allow those results to hold the day. \n",
        "\n",
        ">We look for alternative models that suite this data better\n",
        "\n",
        "\n",
        "\n",
        "\n"
      ]
    },
    {
      "cell_type": "markdown",
      "metadata": {
        "id": "tv1vXJZJxUUD",
        "colab_type": "text"
      },
      "source": [
        "Challenging the solution using different hyperparameters using Random Search and a classifier with different classification models."
      ]
    },
    {
      "cell_type": "code",
      "metadata": {
        "id": "90Aoe4FIvW4H",
        "colab_type": "code",
        "colab": {}
      },
      "source": [
        "#Hyperparameter tuning using Random search\n",
        "\n",
        "#Specifying our hyperparameters\n",
        "\n",
        "param_dist = {\"max_depth\": [3, None],\n",
        "              \"max_features\": sp_randint(1, 11),\n",
        "              \"min_samples_split\": sp_randint(2, 11),\n",
        "              \"bootstrap\": [True, False],\n",
        "              \"criterion\": [\"gini\", \"entropy\"]}\n",
        "\n",
        "#Instantiating classifier to store classification models\n",
        "classifier = []\n",
        "\n",
        "#Appending different classification models to our classifier\n",
        "classifier.append(('Logistic Regression ', LogisticRegression(solver='liblinear', multi_class='ovr')))\n",
        "classifier.append(('Random Forest ', RandomForestClassifier()))\n",
        "classifier.append(('GussianNB ', GaussianNB()))\n",
        "classifier.append(('Decision Tree ', DecisionTreeClassifier()))\n",
        "\n",
        "random_search = RandomizedSearchCV(classifier, param_dist, cv = 5) "
      ],
      "execution_count": null,
      "outputs": []
    },
    {
      "cell_type": "code",
      "metadata": {
        "id": "j3x3SXZ4XT_L",
        "colab_type": "code",
        "colab": {
          "base_uri": "https://localhost:8080/",
          "height": 250
        },
        "outputId": "3fd54c8f-9f0b-4500-fa57-165533022b36"
      },
      "source": [
        "# Implementing cross valiadtaion using KFold\n",
        "\n",
        "m_results =[]\n",
        "names = []\n",
        "\n",
        "for name, model in classifier:\n",
        "   kfold = KFold(n_splits=5, random_state=0)\n",
        "   model_results = cross_val_score(model, X_train, y_train, cv=kfold, scoring='accuracy')\n",
        "   m_results.append(model_results)\n",
        "   names.append(name)\n",
        "   print(\"%s: %f (%f)\" % (name, model_results.mean(), model_results.std()))\n"
      ],
      "execution_count": null,
      "outputs": [
        {
          "output_type": "stream",
          "text": [
            "/usr/local/lib/python3.6/dist-packages/sklearn/model_selection/_split.py:296: FutureWarning: Setting a random_state has no effect since shuffle is False. This will raise an error in 0.24. You should leave random_state to its default (None), or set shuffle=True.\n",
            "  FutureWarning\n"
          ],
          "name": "stderr"
        },
        {
          "output_type": "stream",
          "text": [
            "Logistic Regression : 0.999716 (0.000265)\n"
          ],
          "name": "stdout"
        },
        {
          "output_type": "stream",
          "text": [
            "/usr/local/lib/python3.6/dist-packages/sklearn/model_selection/_split.py:296: FutureWarning: Setting a random_state has no effect since shuffle is False. This will raise an error in 0.24. You should leave random_state to its default (None), or set shuffle=True.\n",
            "  FutureWarning\n"
          ],
          "name": "stderr"
        },
        {
          "output_type": "stream",
          "text": [
            "Random Forest : 0.995675 (0.000757)\n"
          ],
          "name": "stdout"
        },
        {
          "output_type": "stream",
          "text": [
            "/usr/local/lib/python3.6/dist-packages/sklearn/model_selection/_split.py:296: FutureWarning: Setting a random_state has no effect since shuffle is False. This will raise an error in 0.24. You should leave random_state to its default (None), or set shuffle=True.\n",
            "  FutureWarning\n"
          ],
          "name": "stderr"
        },
        {
          "output_type": "stream",
          "text": [
            "GussianNB : 0.421269 (0.013863)\n"
          ],
          "name": "stdout"
        },
        {
          "output_type": "stream",
          "text": [
            "/usr/local/lib/python3.6/dist-packages/sklearn/model_selection/_split.py:296: FutureWarning: Setting a random_state has no effect since shuffle is False. This will raise an error in 0.24. You should leave random_state to its default (None), or set shuffle=True.\n",
            "  FutureWarning\n"
          ],
          "name": "stderr"
        },
        {
          "output_type": "stream",
          "text": [
            "Decision Tree : 0.999575 (0.000142)\n"
          ],
          "name": "stdout"
        }
      ]
    },
    {
      "cell_type": "markdown",
      "metadata": {
        "id": "Huf3YQ9s2nsA",
        "colab_type": "text"
      },
      "source": [
        "From the results we can see that Logistic Regression, Random Forest and Decision Tree Classifier have the best accuracies."
      ]
    },
    {
      "cell_type": "markdown",
      "metadata": {
        "id": "xrmHVMVsVS--",
        "colab_type": "text"
      },
      "source": [
        "## 9. Follow up questions"
      ]
    },
    {
      "cell_type": "markdown",
      "metadata": {
        "id": "HPQviDmNtta8",
        "colab_type": "text"
      },
      "source": [
        "### a). Did we have the right data?"
      ]
    },
    {
      "cell_type": "markdown",
      "metadata": {
        "id": "XV2tbtJ-2-IB",
        "colab_type": "text"
      },
      "source": [
        "Yes, the data was right"
      ]
    },
    {
      "cell_type": "markdown",
      "metadata": {
        "id": "qjFHK1CKty7o",
        "colab_type": "text"
      },
      "source": [
        "### b). Do we need other data to answer our question?"
      ]
    },
    {
      "cell_type": "markdown",
      "metadata": {
        "id": "6XN6oUus3EEG",
        "colab_type": "text"
      },
      "source": [
        "Yes, if is possible to obtain ranking records from before 1993-08-08, the model will have better performance."
      ]
    },
    {
      "cell_type": "markdown",
      "metadata": {
        "id": "HSsicSdvt4Zs",
        "colab_type": "text"
      },
      "source": [
        "### c). Did we have the right question?\n"
      ]
    },
    {
      "cell_type": "markdown",
      "metadata": {
        "id": "CzCpgLHu3K3Z",
        "colab_type": "text"
      },
      "source": [
        "In conclusion, the questions were right for the dataset and the best models for this kind of prediction are but not limited to Logistic Regression, Random Forest and Desicion Tree Classifier since they had an Accuracy Score of 0.99."
      ]
    }
  ]
}